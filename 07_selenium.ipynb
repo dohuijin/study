{
  "cells": [
    {
      "cell_type": "markdown",
      "id": "03fff3b4",
      "metadata": {
        "id": "03fff3b4"
      },
      "source": [
        "### selenium\n",
        "- `https://www.selenium.dev`\n",
        "- 자동화를 목적으로 만들어진 다양한 브라우져와 언어를 지원하는 라이브러리\n",
        "- 크롬 브라우져 설치\n",
        "    - 크롬 브라우져 드라이버 다운로드 (크롬 브라우져와 같은 버전)\n",
        "    - 다운로드한 드라이버 압축 해제\n",
        "    - chromedriver, chromedriver.exe 생성\n",
        "    - windows : 주피터 노트북 파일과 동일한 디렉토리에 chromedriver.exe 파일 업로드\n",
        "    - mac : sudo cp ~/Download/chromedirver /usr/local/bin"
      ]
    },
    {
      "cell_type": "code",
      "execution_count": null,
      "id": "2981cd32",
      "metadata": {
        "id": "2981cd32"
      },
      "outputs": [],
      "source": [
        "import time\n",
        "import pandas as pd\n",
        "from selenium import webdriver\n",
        "from selenium.webdriver.common.by import By"
      ]
    },
    {
      "cell_type": "code",
      "execution_count": null,
      "id": "13b07de6",
      "metadata": {
        "id": "13b07de6"
      },
      "outputs": [],
      "source": [
        "driver = webdriver.Chrome()"
      ]
    },
    {
      "cell_type": "code",
      "execution_count": null,
      "id": "a786b65d",
      "metadata": {
        "id": "a786b65d"
      },
      "outputs": [],
      "source": [
        "# 페이지 이동\n",
        "driver.get(\"https://daum.net\")"
      ]
    },
    {
      "cell_type": "code",
      "execution_count": null,
      "id": "9abf03ba",
      "metadata": {
        "id": "9abf03ba"
      },
      "outputs": [],
      "source": [
        "# 브라우져 사이즈 조절\n",
        "driver.set_window_size(200, 600)"
      ]
    },
    {
      "cell_type": "code",
      "execution_count": null,
      "id": "5ae62f43",
      "metadata": {
        "id": "5ae62f43"
      },
      "outputs": [],
      "source": [
        "# 브라우져 스크롤 조절\n",
        "driver.execute_script(\"window.scrollTo(200, 300);\")"
      ]
    },
    {
      "cell_type": "code",
      "execution_count": null,
      "id": "c5c67542",
      "metadata": {
        "id": "c5c67542"
      },
      "outputs": [],
      "source": [
        "# alert 다루기\n",
        "driver.execute_script(\"alert('hello selenium!!!');\")"
      ]
    },
    {
      "cell_type": "code",
      "execution_count": null,
      "id": "ba153669",
      "metadata": {
        "id": "ba153669"
      },
      "outputs": [],
      "source": [
        "alert = driver.switch_to.alert\n",
        "alert.accept()"
      ]
    },
    {
      "cell_type": "code",
      "execution_count": null,
      "id": "64264b83",
      "metadata": {
        "id": "64264b83",
        "outputId": "1bf0ff96-90ec-4f23-8735-7f6e8c37bdcb"
      },
      "outputs": [
        {
          "name": "stdout",
          "output_type": "stream",
          "text": [
            "selenium                      4.11.2\r\n"
          ]
        }
      ],
      "source": [
        "!pip list | grep selenium"
      ]
    },
    {
      "cell_type": "code",
      "execution_count": null,
      "id": "15b83780",
      "metadata": {
        "id": "15b83780"
      },
      "outputs": [],
      "source": [
        "# 문자열 입력\n",
        "driver.find_element(By.CSS_SELECTOR, \"#q\").send_keys(\"셀레니움\")"
      ]
    },
    {
      "cell_type": "code",
      "execution_count": null,
      "id": "29abf4ff",
      "metadata": {
        "id": "29abf4ff"
      },
      "outputs": [],
      "source": [
        "# 검색 버튼 클릭\n",
        "driver.find_element(By.CSS_SELECTOR, '.inner_search > .ico_pctop.btn_search').click()"
      ]
    },
    {
      "cell_type": "code",
      "execution_count": null,
      "id": "dfa3c68a",
      "metadata": {
        "id": "dfa3c68a"
      },
      "outputs": [],
      "source": [
        "# 브라우져 종료\n",
        "driver.quit()"
      ]
    },
    {
      "cell_type": "markdown",
      "id": "c4c13a78",
      "metadata": {
        "id": "c4c13a78"
      },
      "source": [
        "### 텍스트 데이터 가져오기\n",
        "- TED 사이트 : `https://www.ted.com`"
      ]
    },
    {
      "cell_type": "code",
      "execution_count": null,
      "id": "0eeaf4c8",
      "metadata": {
        "id": "0eeaf4c8"
      },
      "outputs": [],
      "source": [
        "# 브라우져를 실행하여 테드 사이트 열기\n",
        "driver = webdriver.Chrome()\n",
        "driver.get(\"https://www.ted.com/talks\")"
      ]
    },
    {
      "cell_type": "code",
      "execution_count": null,
      "id": "1123fab3",
      "metadata": {
        "id": "1123fab3",
        "outputId": "08f1acd6-ca56-478e-da0a-33f3d9030267"
      },
      "outputs": [
        {
          "data": {
            "text/plain": [
              "'4300+ talks to stir your curiosity'"
            ]
          },
          "execution_count": 13,
          "metadata": {},
          "output_type": "execute_result"
        }
      ],
      "source": [
        "# CSS Selector를 이용하여 HTML 태그와 태그 사이의 text 데이터 가져오기\n",
        "driver.find_element(By.CSS_SELECTOR, \".talks-header__title\").text"
      ]
    },
    {
      "cell_type": "code",
      "execution_count": null,
      "id": "eaed94c4",
      "metadata": {
        "id": "eaed94c4",
        "outputId": "8f3763ef-f8f7-42bd-c632-c36faf1b4565"
      },
      "outputs": [
        {
          "data": {
            "text/plain": [
              "36"
            ]
          },
          "execution_count": 14,
          "metadata": {},
          "output_type": "execute_result"
        }
      ],
      "source": [
        "# 제목 데이터 가져오기\n",
        "contents = driver.find_elements(By.CSS_SELECTOR, \"#browse-results > .row > .col\")\n",
        "len(contents)"
      ]
    },
    {
      "cell_type": "code",
      "execution_count": null,
      "id": "33b93c0a",
      "metadata": {
        "id": "33b93c0a",
        "outputId": "ac44c4ad-47d3-4ceb-a234-4ff5e102a88a"
      },
      "outputs": [
        {
          "data": {
            "text/plain": [
              "\"What's it like to be a giant sequoia tree?\""
            ]
          },
          "execution_count": 15,
          "metadata": {},
          "output_type": "execute_result"
        }
      ],
      "source": [
        "# 가장 처음 텍스트 데이터 가져오기\n",
        "contents[0].find_element(By.CSS_SELECTOR, '.media__message .ga-link').text"
      ]
    },
    {
      "cell_type": "code",
      "execution_count": null,
      "id": "fe2234dc",
      "metadata": {
        "id": "fe2234dc",
        "outputId": "2385f9be-bc41-4e3f-9963-a53056b63c6f"
      },
      "outputs": [
        {
          "data": {
            "text/plain": [
              "([\"What's it like to be a giant sequoia tree?\",\n",
              "  'Which is better for you: \"Real\" meat or \"fake\" meat?',\n",
              "  'The molecular love story that could help power the world'],\n",
              " 36)"
            ]
          },
          "execution_count": 16,
          "metadata": {},
          "output_type": "execute_result"
        }
      ],
      "source": [
        "# 전체 제목 데이터 가져오기\n",
        "titles = []\n",
        "for content in contents:\n",
        "    title = content.find_element(By.CSS_SELECTOR, '.media__message .ga-link').text\n",
        "    titles.append(title)\n",
        "titles[:3], len(titles)"
      ]
    },
    {
      "cell_type": "code",
      "execution_count": null,
      "id": "3596edb0",
      "metadata": {
        "id": "3596edb0"
      },
      "outputs": [],
      "source": [
        "# 셀렉트 박스를 선택후 데이터 가져오기\n",
        "# 이벤트 발생 기능(값 입력, 클릭 이벤트등)은 화면에 해당 엘리먼트가 보여야 합니다.\n",
        "# 한국어 선택\n",
        "driver.find_element(By.CSS_SELECTOR, '#languages [lang=\"ko\"]').click()\n",
        "time.sleep(1)"
      ]
    },
    {
      "cell_type": "code",
      "execution_count": null,
      "id": "dace0f37",
      "metadata": {
        "id": "dace0f37",
        "outputId": "a8dc175a-00cc-48e8-926d-885b5bd809b4"
      },
      "outputs": [
        {
          "data": {
            "text/plain": [
              "['혼잣말은 정상적인 행동일까요?', '무엇이 \"좋은 대학\"을 만들고, 왜 그것이 중요한가?', '정신 분열로 얻은 교훈']"
            ]
          },
          "execution_count": 18,
          "metadata": {},
          "output_type": "execute_result"
        }
      ],
      "source": [
        "# 전체 제목 데이터 가져오기\n",
        "contents = driver.find_elements(By.CSS_SELECTOR, \"#browse-results > .row > .col\")\n",
        "titles = []\n",
        "for content in contents:\n",
        "    title = content.find_element(By.CSS_SELECTOR, '.media__message .ga-link').text\n",
        "    titles.append(title)\n",
        "titles[-3:]"
      ]
    },
    {
      "cell_type": "code",
      "execution_count": null,
      "id": "ada149b0",
      "metadata": {
        "id": "ada149b0",
        "outputId": "33308f42-0780-47f9-8d13-705859ea5b1f"
      },
      "outputs": [
        {
          "data": {
            "text/plain": [
              "['https://www.ted.com/talks/ted_ed_is_it_normal_to_talk_to_yourself?language=ko',\n",
              " 'https://www.ted.com/talks/cecilia_m_orphan_what_makes_a_good_college_and_why_it_matters?language=ko',\n",
              " 'https://www.ted.com/talks/andy_dunn_lessons_from_losing_my_mind?language=ko']"
            ]
          },
          "execution_count": 19,
          "metadata": {},
          "output_type": "execute_result"
        }
      ],
      "source": [
        "# 링크 데이터 크롤링 (속성(attribute)값 가져오는 방법)\n",
        "links = []\n",
        "for content in contents:\n",
        "    link = content.find_element(By.CSS_SELECTOR, '.media__message .ga-link').get_attribute(\"href\")\n",
        "    links.append(link)\n",
        "links[-3:]"
      ]
    },
    {
      "cell_type": "code",
      "execution_count": null,
      "id": "8da51a4e",
      "metadata": {
        "id": "8da51a4e"
      },
      "outputs": [],
      "source": [
        "driver.quit()"
      ]
    },
    {
      "cell_type": "markdown",
      "id": "152eda00",
      "metadata": {
        "id": "152eda00"
      },
      "source": [
        "### 3. Headless\n",
        "- 브라우져를 화면에 띄우지 않고 메모리상에서만 올려서 크롤링하는 방법\n",
        "- window가 지원되지 않는 환경에서 사용이 가능\n",
        "- chrome version 60.0.0.0 이상부터 지원 합니다."
      ]
    },
    {
      "cell_type": "code",
      "execution_count": null,
      "id": "54a05161",
      "metadata": {
        "id": "54a05161",
        "outputId": "a8574095-c268-4cec-a307-4f8e22cb23e8"
      },
      "outputs": [
        {
          "name": "stdout",
          "output_type": "stream",
          "text": [
            "116.0.5845.96\n"
          ]
        }
      ],
      "source": [
        "# 현재 사용중인 크롬 버전 확인\n",
        "driver = webdriver.Chrome()\n",
        "version = driver.capabilities[\"browserVersion\"]\n",
        "print(version)\n",
        "driver.quit()"
      ]
    },
    {
      "cell_type": "code",
      "execution_count": null,
      "id": "06950205",
      "metadata": {
        "id": "06950205",
        "outputId": "c457d109-baff-4778-da0e-14564caafe73"
      },
      "outputs": [
        {
          "name": "stdout",
          "output_type": "stream",
          "text": [
            "4300+ talks to stir your curiosity\n"
          ]
        }
      ],
      "source": [
        "# headless 사용\n",
        "options = webdriver.ChromeOptions()\n",
        "options.add_argument('headless')\n",
        "driver = webdriver.Chrome(options=options)\n",
        "driver.get(\"https://www.ted.com/talks\")\n",
        "text = driver.find_element(By.CSS_SELECTOR, \".talks-header__title\").text\n",
        "driver.quit()\n",
        "print(text)"
      ]
    }
  ],
  "metadata": {
    "kernelspec": {
      "display_name": "Python 3 (ipykernel)",
      "language": "python",
      "name": "python3"
    },
    "language_info": {
      "codemirror_mode": {
        "name": "ipython",
        "version": 3
      },
      "file_extension": ".py",
      "mimetype": "text/x-python",
      "name": "python",
      "nbconvert_exporter": "python",
      "pygments_lexer": "ipython3",
      "version": "3.11.3"
    },
    "toc": {
      "base_numbering": 1,
      "nav_menu": {},
      "number_sections": false,
      "sideBar": true,
      "skip_h1_title": false,
      "title_cell": "Table of Contents",
      "title_sidebar": "Contents",
      "toc_cell": false,
      "toc_position": {},
      "toc_section_display": true,
      "toc_window_display": false
    },
    "colab": {
      "provenance": []
    }
  },
  "nbformat": 4,
  "nbformat_minor": 5
}
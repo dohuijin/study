{
  "cells": [
    {
      "cell_type": "markdown",
      "metadata": {
        "id": "wH4UgVgR7Iv7"
      },
      "source": [
        "## 이미지 데이터 구경"
      ]
    },
    {
      "cell_type": "code",
      "execution_count": 1,
      "metadata": {
        "id": "bJNG0ZLE473s",
        "colab": {
          "base_uri": "https://localhost:8080/"
        },
        "outputId": "c2ffeb97-e793-4e9e-82cc-0500e596b466"
      },
      "outputs": [
        {
          "output_type": "stream",
          "name": "stdout",
          "text": [
            "Downloading data from https://storage.googleapis.com/tensorflow/tf-keras-datasets/mnist.npz\n",
            "11490434/11490434 [==============================] - 0s 0us/step\n",
            "(60000, 28, 28) (60000,)\n",
            "(10000, 28, 28) (10000,)\n"
          ]
        }
      ],
      "source": [
        "import tensorflow as tf\n",
        "\n",
        "(x_train, y_train), (x_test, y_test) = tf.keras.datasets.mnist.load_data()\n",
        "print(x_train.shape, y_train.shape)\n",
        "print(x_test.shape, y_test.shape)"
      ]
    },
    {
      "cell_type": "code",
      "execution_count": 2,
      "metadata": {
        "id": "DY2TcInS7Qy2",
        "colab": {
          "base_uri": "https://localhost:8080/",
          "height": 466
        },
        "outputId": "8a9faec4-c883-47d6-815c-844fdbf6066d"
      },
      "outputs": [
        {
          "output_type": "stream",
          "name": "stdout",
          "text": [
            "4\n"
          ]
        },
        {
          "output_type": "execute_result",
          "data": {
            "text/plain": [
              "<matplotlib.image.AxesImage at 0x7e112881b6a0>"
            ]
          },
          "metadata": {},
          "execution_count": 2
        },
        {
          "output_type": "display_data",
          "data": {
            "text/plain": [
              "<Figure size 640x480 with 1 Axes>"
            ],
            "image/png": "[encoded data removed]"
          },
          "metadata": {}
        }
      ],
      "source": [
        "import matplotlib.pyplot as plt\n",
        "\n",
        "i = 2451\n",
        "print(y_train[i])\n",
        "plt.imshow(x_train[i], cmap='gray')"
      ]
    },
    {
      "cell_type": "code",
      "execution_count": 3,
      "metadata": {
        "id": "F0YhaTo172ko",
        "colab": {
          "base_uri": "https://localhost:8080/",
          "height": 947
        },
        "outputId": "25d144a8-9a6d-4918-c01d-66ff1fe45409"
      },
      "outputs": [
        {
          "output_type": "execute_result",
          "data": {
            "text/plain": [
              "    0   1   2   3   4   5   6    7    8    9    10   11   12   13   14   15  \\\n",
              "0    0   0   0   0   0   0   0    0    0    0    0    0    0    0    0    0   \n",
              "1    0   0   0   0   0   0   0    0    0    0    0    0    0    0    0    0   \n",
              "2    0   0   0   0   0   0   0    0    0    0    0    0    0    0    0    0   \n",
              "3    0   0   0   0   0   0   0    0    0    0    0    0    0    0    0    0   \n",
              "4    0   0   0   0   0   0   0    0    0    0    0    0    0    0    0    0   \n",
              "5    0   0   0   0   0   0   0    0    0    0    0    0    0    0    0    0   \n",
              "6    0   0   0   0   0   0   0    0    0    0    0    0    0   28    0    0   \n",
              "7    0   0   0   0   0   0   0    0    0    0    0    0   26  248  206    0   \n",
              "8    0   0   0   0   0   0   0    0    0    0    0    9  172  253  244    0   \n",
              "9    0   0   0   0   0   0   0    0    0    0    0   84  253  249  103    0   \n",
              "10   0   0   0   0   0   0   0    0    0    0   38  220  253  190    0    0   \n",
              "11   0   0   0   0   0   0   0    0    0   56  232  253  240   47    0    0   \n",
              "12   0   0   0   0   0   0   0    0   58  230  253  237   95    0   11   27   \n",
              "13   0   0   0   0   0   0   0   36  222  253  253  232  144  192  215  253   \n",
              "14   0   0   0   0   0   0   0  157  253  253  253  253  253  253  253  253   \n",
              "15   0   0   0   0   0   0   0  128  253  253  253  253  253  253  253  253   \n",
              "16   0   0   0   0   0   0   0    0   31   19   88   88   58  100  254  254   \n",
              "17   0   0   0   0   0   0   0    0    0    0    0    0    0   18  253  253   \n",
              "18   0   0   0   0   0   0   0    0    0    0    0    0    7  135  253  253   \n",
              "19   0   0   0   0   0   0   0    0    0    0    0    0   45  253  253  235   \n",
              "20   0   0   0   0   0   0   0    0    0    0    0    7  168  253  248   50   \n",
              "21   0   0   0   0   0   0   0    0    0    0    0   48  253  253  159    0   \n",
              "22   0   0   0   0   0   0   0    0    0    0   20  211  253  245   39    0   \n",
              "23   0   0   0   0   0   0   0    0    0    4  149  253  251  128    0    0   \n",
              "24   0   0   0   0   0   0   0    0    0   53  253  253  193    0    0    0   \n",
              "25   0   0   0   0   0   0   0    0    0   35  241  228   43    0    0    0   \n",
              "26   0   0   0   0   0   0   0    0    0    0    0    0    0    0    0    0   \n",
              "27   0   0   0   0   0   0   0    0    0    0    0    0    0    0    0    0   \n",
              "\n",
              "     16   17   18   19   20   21   22   23  24  25  26  27  \n",
              "0     0    0    0    0    0    0    0    0   0   0   0   0  \n",
              "1     0    0    0    0    0    0    0    0   0   0   0   0  \n",
              "2     0    0    0    0    0    0    0    0   0   0   0   0  \n",
              "3     0    0    0    0    0    0    0    0   0   0   0   0  \n",
              "4     0    0    0    0    0    0    0    0   0   0   0   0  \n",
              "5     0    0    0    0    0    0    0    0   0   0   0   0  \n",
              "6     0    0    0    0    0   11  157  248  46   0   0   0  \n",
              "7     0    0    0    0   76  231  253  163  27   0   0   0  \n",
              "8     0    0    0   53  239  253  155    4   0   0   0   0  \n",
              "9     0    0   13  224  253  185    6    0   0   0   0   0  \n",
              "10    0    0  152  253  245   36    0    0   0   0   0   0  \n",
              "11    0   47  244  253   95    0    0    0   0   0   0   0  \n",
              "12   84  231  253  253  114    0    0    0   0   0   0   0  \n",
              "13  254  253  253  253  203    0    0    0   0   0   0   0  \n",
              "14  254  253  226  138   34    0    0    0   0   0   0   0  \n",
              "15  254  253   74    0    0    0    0    0   0   0   0   0  \n",
              "16  255  232   12    0    0    0    0    0   0   0   0   0  \n",
              "17  254   44    0    0    0    0    0    0   0   0   0   0  \n",
              "18  186    4    0    0    0    0    0    0   0   0   0   0  \n",
              "19    9    0    0    0    0    0    0    0   0   0   0   0  \n",
              "20    0    0    0    0    0    0    0    0   0   0   0   0  \n",
              "21    0    0    0    0    0    0    0    0   0   0   0   0  \n",
              "22    0    0    0    0    0    0    0    0   0   0   0   0  \n",
              "23    0    0    0    0    0    0    0    0   0   0   0   0  \n",
              "24    0    0    0    0    0    0    0    0   0   0   0   0  \n",
              "25    0    0    0    0    0    0    0    0   0   0   0   0  \n",
              "26    0    0    0    0    0    0    0    0   0   0   0   0  \n",
              "27    0    0    0    0    0    0    0    0   0   0   0   0  "
            ],
            "text/html": [
              "\n",
              "  <div id=\"df-9478bf80-5f28-4f98-9ff7-f7a08e0c251b\" class=\"colab-df-container\">\n",
              "    <div>\n",
              "<style scoped>\n",
              "    .dataframe tbody tr th:only-of-type {\n",
              "        vertical-align: middle;\n",
              "    }\n",
              "\n",
              "    .dataframe tbody tr th {\n",
              "        vertical-align: top;\n",
              "    }\n",
              "\n",
              "    .dataframe thead th {\n",
              "        text-align: right;\n",
              "    }\n",
              "</style>\n",
              "<table border=\"1\" class=\"dataframe\">\n",
              "  <thead>\n",
              "    <tr style=\"text-align: right;\">\n",
              "      <th></th>\n",
              "      <th>0</th>\n",
              "      <th>1</th>\n",
              "      <th>2</th>\n",
              "      <th>3</th>\n",
              "      <th>4</th>\n",
              "      <th>5</th>\n",
              "      <th>6</th>\n",
              "      <th>7</th>\n",
              "      <th>8</th>\n",
              "      <th>9</th>\n",
              "      <th>10</th>\n",
              "      <th>11</th>\n",
              "      <th>12</th>\n",
              "      <th>13</th>\n",
              "      <th>14</th>\n",
              "      <th>15</th>\n",
              "      <th>16</th>\n",
              "      <th>17</th>\n",
              "      <th>18</th>\n",
              "      <th>19</th>\n",
              "      <th>20</th>\n",
              "      <th>21</th>\n",
              "      <th>22</th>\n",
              "      <th>23</th>\n",
              "      <th>24</th>\n",
              "      <th>25</th>\n",
              "      <th>26</th>\n",
              "      <th>27</th>\n",
              "    </tr>\n",
              "  </thead>\n",
              "  <tbody>\n",
              "    <tr>\n",
              "      <th>0</th>\n",
              "      <td>0</td>\n",
              "      <td>0</td>\n",
              "      <td>0</td>\n",
              "      <td>0</td>\n",
              "      <td>0</td>\n",
              "      <td>0</td>\n",
              "      <td>0</td>\n",
              "      <td>0</td>\n",
              "      <td>0</td>\n",
              "      <td>0</td>\n",
              "      <td>0</td>\n",
              "      <td>0</td>\n",
              "      <td>0</td>\n",
              "      <td>0</td>\n",
              "      <td>0</td>\n",
              "      <td>0</td>\n",
              "      <td>0</td>\n",
              "      <td>0</td>\n",
              "      <td>0</td>\n",
              "      <td>0</td>\n",
              "      <td>0</td>\n",
              "      <td>0</td>\n",
              "      <td>0</td>\n",
              "      <td>0</td>\n",
              "      <td>0</td>\n",
              "      <td>0</td>\n",
              "      <td>0</td>\n",
              "      <td>0</td>\n",
              "    </tr>\n",
              "    <tr>\n",
              "      <th>1</th>\n",
              "      <td>0</td>\n",
              "      <td>0</td>\n",
              "      <td>0</td>\n",
              "      <td>0</td>\n",
              "      <td>0</td>\n",
              "      <td>0</td>\n",
              "      <td>0</td>\n",
              "      <td>0</td>\n",
              "      <td>0</td>\n",
              "      <td>0</td>\n",
              "      <td>0</td>\n",
              "      <td>0</td>\n",
              "      <td>0</td>\n",
              "      <td>0</td>\n",
              "      <td>0</td>\n",
              "      <td>0</td>\n",
              "      <td>0</td>\n",
              "      <td>0</td>\n",
              "      <td>0</td>\n",
              "      <td>0</td>\n",
              "      <td>0</td>\n",
              "      <td>0</td>\n",
              "      <td>0</td>\n",
              "      <td>0</td>\n",
              "      <td>0</td>\n",
              "      <td>0</td>\n",
              "      <td>0</td>\n",
              "      <td>0</td>\n",
              "    </tr>\n",
              "    <tr>\n",
              "      <th>2</th>\n",
              "      <td>0</td>\n",
              "      <td>0</td>\n",
              "      <td>0</td>\n",
              "      <td>0</td>\n",
              "      <td>0</td>\n",
              "      <td>0</td>\n",
              "      <td>0</td>\n",
              "      <td>0</td>\n",
              "      <td>0</td>\n",
              "      <td>0</td>\n",
              "      <td>0</td>\n",
              "      <td>0</td>\n",
              "      <td>0</td>\n",
              "      <td>0</td>\n",
              "      <td>0</td>\n",
              "      <td>0</td>\n",
              "      <td>0</td>\n",
              "      <td>0</td>\n",
              "      <td>0</td>\n",
              "      <td>0</td>\n",
              "      <td>0</td>\n",
              "      <td>0</td>\n",
              "      <td>0</td>\n",
              "      <td>0</td>\n",
              "      <td>0</td>\n",
              "      <td>0</td>\n",
              "      <td>0</td>\n",
              "      <td>0</td>\n",
              "    </tr>\n",
              "    <tr>\n",
              "      <th>3</th>\n",
              "      <td>0</td>\n",
              "      <td>0</td>\n",
              "      <td>0</td>\n",
              "      <td>0</td>\n",
              "      <td>0</td>\n",
              "      <td>0</td>\n",
              "      <td>0</td>\n",
              "      <td>0</td>\n",
              "      <td>0</td>\n",
              "      <td>0</td>\n",
              "      <td>0</td>\n",
              "      <td>0</td>\n",
              "      <td>0</td>\n",
              "      <td>0</td>\n",
              "      <td>0</td>\n",
              "      <td>0</td>\n",
              "      <td>0</td>\n",
              "      <td>0</td>\n",
              "      <td>0</td>\n",
              "      <td>0</td>\n",
              "      <td>0</td>\n",
              "      <td>0</td>\n",
              "      <td>0</td>\n",
              "      <td>0</td>\n",
              "      <td>0</td>\n",
              "      <td>0</td>\n",
              "      <td>0</td>\n",
              "      <td>0</td>\n",
              "    </tr>\n",
              "    <tr>\n",
              "      <th>4</th>\n",
              "      <td>0</td>\n",
              "      <td>0</td>\n",
              "      <td>0</td>\n",
              "      <td>0</td>\n",
              "      <td>0</td>\n",
              "      <td>0</td>\n",
              "      <td>0</td>\n",
              "      <td>0</td>\n",
              "      <td>0</td>\n",
              "      <td>0</td>\n",
              "      <td>0</td>\n",
              "      <td>0</td>\n",
              "      <td>0</td>\n",
              "      <td>0</td>\n",
              "      <td>0</td>\n",
              "      <td>0</td>\n",
              "      <td>0</td>\n",
              "      <td>0</td>\n",
              "      <td>0</td>\n",
              "      <td>0</td>\n",
              "      <td>0</td>\n",
              "      <td>0</td>\n",
              "      <td>0</td>\n",
              "      <td>0</td>\n",
              "      <td>0</td>\n",
              "      <td>0</td>\n",
              "      <td>0</td>\n",
              "      <td>0</td>\n",
              "    </tr>\n",
              "    <tr>\n",
              "      <th>5</th>\n",
              "      <td>0</td>\n",
              "      <td>0</td>\n",
              "      <td>0</td>\n",
              "      <td>0</td>\n",
              "      <td>0</td>\n",
              "      <td>0</td>\n",
              "      <td>0</td>\n",
              "      <td>0</td>\n",
              "      <td>0</td>\n",
              "      <td>0</td>\n",
              "      <td>0</td>\n",
              "      <td>0</td>\n",
              "      <td>0</td>\n",
              "      <td>0</td>\n",
              "      <td>0</td>\n",
              "      <td>0</td>\n",
              "      <td>0</td>\n",
              "      <td>0</td>\n",
              "      <td>0</td>\n",
              "      <td>0</td>\n",
              "      <td>0</td>\n",
              "      <td>0</td>\n",
              "      <td>0</td>\n",
              "      <td>0</td>\n",
              "      <td>0</td>\n",
              "      <td>0</td>\n",
              "      <td>0</td>\n",
              "      <td>0</td>\n",
              "    </tr>\n",
              "    <tr>\n",
              "      <th>6</th>\n",
              "      <td>0</td>\n",
              "      <td>0</td>\n",
              "      <td>0</td>\n",
              "      <td>0</td>\n",
              "      <td>0</td>\n",
              "      <td>0</td>\n",
              "      <td>0</td>\n",
              "      <td>0</td>\n",
              "      <td>0</td>\n",
              "      <td>0</td>\n",
              "      <td>0</td>\n",
              "      <td>0</td>\n",
              "      <td>0</td>\n",
              "      <td>28</td>\n",
              "      <td>0</td>\n",
              "      <td>0</td>\n",
              "      <td>0</td>\n",
              "      <td>0</td>\n",
              "      <td>0</td>\n",
              "      <td>0</td>\n",
              "      <td>0</td>\n",
              "      <td>11</td>\n",
              "      <td>157</td>\n",
              "      <td>248</td>\n",
              "      <td>46</td>\n",
              "      <td>0</td>\n",
              "      <td>0</td>\n",
              "      <td>0</td>\n",
              "    </tr>\n",
              "    <tr>\n",
              "      <th>7</th>\n",
              "      <td>0</td>\n",
              "      <td>0</td>\n",
              "      <td>0</td>\n",
              "      <td>0</td>\n",
              "      <td>0</td>\n",
              "      <td>0</td>\n",
              "      <td>0</td>\n",
              "      <td>0</td>\n",
              "      <td>0</td>\n",
              "      <td>0</td>\n",
              "      <td>0</td>\n",
              "      <td>0</td>\n",
              "      <td>26</td>\n",
              "      <td>248</td>\n",
              "      <td>206</td>\n",
              "      <td>0</td>\n",
              "      <td>0</td>\n",
              "      <td>0</td>\n",
              "      <td>0</td>\n",
              "      <td>0</td>\n",
              "      <td>76</td>\n",
              "      <td>231</td>\n",
              "      <td>253</td>\n",
              "      <td>163</td>\n",
              "      <td>27</td>\n",
              "      <td>0</td>\n",
              "      <td>0</td>\n",
              "      <td>0</td>\n",
              "    </tr>\n",
              "    <tr>\n",
              "      <th>8</th>\n",
              "      <td>0</td>\n",
              "      <td>0</td>\n",
              "      <td>0</td>\n",
              "      <td>0</td>\n",
              "      <td>0</td>\n",
              "      <td>0</td>\n",
              "      <td>0</td>\n",
              "      <td>0</td>\n",
              "      <td>0</td>\n",
              "      <td>0</td>\n",
              "      <td>0</td>\n",
              "      <td>9</td>\n",
              "      <td>172</td>\n",
              "      <td>253</td>\n",
              "      <td>244</td>\n",
              "      <td>0</td>\n",
              "      <td>0</td>\n",
              "      <td>0</td>\n",
              "      <td>0</td>\n",
              "      <td>53</td>\n",
              "      <td>239</td>\n",
              "      <td>253</td>\n",
              "      <td>155</td>\n",
              "      <td>4</td>\n",
              "      <td>0</td>\n",
              "      <td>0</td>\n",
              "      <td>0</td>\n",
              "      <td>0</td>\n",
              "    </tr>\n",
              "    <tr>\n",
              "      <th>9</th>\n",
              "      <td>0</td>\n",
              "      <td>0</td>\n",
              "      <td>0</td>\n",
              "      <td>0</td>\n",
              "      <td>0</td>\n",
              "      <td>0</td>\n",
              "      <td>0</td>\n",
              "      <td>0</td>\n",
              "      <td>0</td>\n",
              "      <td>0</td>\n",
              "      <td>0</td>\n",
              "      <td>84</td>\n",
              "      <td>253</td>\n",
              "      <td>249</td>\n",
              "      <td>103</td>\n",
              "      <td>0</td>\n",
              "      <td>0</td>\n",
              "      <td>0</td>\n",
              "      <td>13</td>\n",
              "      <td>224</td>\n",
              "      <td>253</td>\n",
              "      <td>185</td>\n",
              "      <td>6</td>\n",
              "      <td>0</td>\n",
              "      <td>0</td>\n",
              "      <td>0</td>\n",
              "      <td>0</td>\n",
              "      <td>0</td>\n",
              "    </tr>\n",
              "    <tr>\n",
              "      <th>10</th>\n",
              "      <td>0</td>\n",
              "      <td>0</td>\n",
              "      <td>0</td>\n",
              "      <td>0</td>\n",
              "      <td>0</td>\n",
              "      <td>0</td>\n",
              "      <td>0</td>\n",
              "      <td>0</td>\n",
              "      <td>0</td>\n",
              "      <td>0</td>\n",
              "      <td>38</td>\n",
              "      <td>220</td>\n",
              "      <td>253</td>\n",
              "      <td>190</td>\n",
              "      <td>0</td>\n",
              "      <td>0</td>\n",
              "      <td>0</td>\n",
              "      <td>0</td>\n",
              "      <td>152</td>\n",
              "      <td>253</td>\n",
              "      <td>245</td>\n",
              "      <td>36</td>\n",
              "      <td>0</td>\n",
              "      <td>0</td>\n",
              "      <td>0</td>\n",
              "      <td>0</td>\n",
              "      <td>0</td>\n",
              "      <td>0</td>\n",
              "    </tr>\n",
              "    <tr>\n",
              "      <th>11</th>\n",
              "      <td>0</td>\n",
              "      <td>0</td>\n",
              "      <td>0</td>\n",
              "      <td>0</td>\n",
              "      <td>0</td>\n",
              "      <td>0</td>\n",
              "      <td>0</td>\n",
              "      <td>0</td>\n",
              "      <td>0</td>\n",
              "      <td>56</td>\n",
              "      <td>232</td>\n",
              "      <td>253</td>\n",
              "      <td>240</td>\n",
              "      <td>47</td>\n",
              "      <td>0</td>\n",
              "      <td>0</td>\n",
              "      <td>0</td>\n",
              "      <td>47</td>\n",
              "      <td>244</td>\n",
              "      <td>253</td>\n",
              "      <td>95</td>\n",
              "      <td>0</td>\n",
              "      <td>0</td>\n",
              "      <td>0</td>\n",
              "      <td>0</td>\n",
              "      <td>0</td>\n",
              "      <td>0</td>\n",
              "      <td>0</td>\n",
              "    </tr>\n",
              "    <tr>\n",
              "      <th>12</th>\n",
              "      <td>0</td>\n",
              "      <td>0</td>\n",
              "      <td>0</td>\n",
              "      <td>0</td>\n",
              "      <td>0</td>\n",
              "      <td>0</td>\n",
              "      <td>0</td>\n",
              "      <td>0</td>\n",
              "      <td>58</td>\n",
              "      <td>230</td>\n",
              "      <td>253</td>\n",
              "      <td>237</td>\n",
              "      <td>95</td>\n",
              "      <td>0</td>\n",
              "      <td>11</td>\n",
              "      <td>27</td>\n",
              "      <td>84</td>\n",
              "      <td>231</td>\n",
              "      <td>253</td>\n",
              "      <td>253</td>\n",
              "      <td>114</td>\n",
              "      <td>0</td>\n",
              "      <td>0</td>\n",
              "      <td>0</td>\n",
              "      <td>0</td>\n",
              "      <td>0</td>\n",
              "      <td>0</td>\n",
              "      <td>0</td>\n",
              "    </tr>\n",
              "    <tr>\n",
              "      <th>13</th>\n",
              "      <td>0</td>\n",
              "      <td>0</td>\n",
              "      <td>0</td>\n",
              "      <td>0</td>\n",
              "      <td>0</td>\n",
              "      <td>0</td>\n",
              "      <td>0</td>\n",
              "      <td>36</td>\n",
              "      <td>222</td>\n",
              "      <td>253</td>\n",
              "      <td>253</td>\n",
              "      <td>232</td>\n",
              "      <td>144</td>\n",
              "      <td>192</td>\n",
              "      <td>215</td>\n",
              "      <td>253</td>\n",
              "      <td>254</td>\n",
              "      <td>253</td>\n",
              "      <td>253</td>\n",
              "      <td>253</td>\n",
              "      <td>203</td>\n",
              "      <td>0</td>\n",
              "      <td>0</td>\n",
              "      <td>0</td>\n",
              "      <td>0</td>\n",
              "      <td>0</td>\n",
              "      <td>0</td>\n",
              "      <td>0</td>\n",
              "    </tr>\n",
              "    <tr>\n",
              "      <th>14</th>\n",
              "      <td>0</td>\n",
              "      <td>0</td>\n",
              "      <td>0</td>\n",
              "      <td>0</td>\n",
              "      <td>0</td>\n",
              "      <td>0</td>\n",
              "      <td>0</td>\n",
              "      <td>157</td>\n",
              "      <td>253</td>\n",
              "      <td>253</td>\n",
              "      <td>253</td>\n",
              "      <td>253</td>\n",
              "      <td>253</td>\n",
              "      <td>253</td>\n",
              "      <td>253</td>\n",
              "      <td>253</td>\n",
              "      <td>254</td>\n",
              "      <td>253</td>\n",
              "      <td>226</td>\n",
              "      <td>138</td>\n",
              "      <td>34</td>\n",
              "      <td>0</td>\n",
              "      <td>0</td>\n",
              "      <td>0</td>\n",
              "      <td>0</td>\n",
              "      <td>0</td>\n",
              "      <td>0</td>\n",
              "      <td>0</td>\n",
              "    </tr>\n",
              "    <tr>\n",
              "      <th>15</th>\n",
              "      <td>0</td>\n",
              "      <td>0</td>\n",
              "      <td>0</td>\n",
              "      <td>0</td>\n",
              "      <td>0</td>\n",
              "      <td>0</td>\n",
              "      <td>0</td>\n",
              "      <td>128</td>\n",
              "      <td>253</td>\n",
              "      <td>253</td>\n",
              "      <td>253</td>\n",
              "      <td>253</td>\n",
              "      <td>253</td>\n",
              "      <td>253</td>\n",
              "      <td>253</td>\n",
              "      <td>253</td>\n",
              "      <td>254</td>\n",
              "      <td>253</td>\n",
              "      <td>74</td>\n",
              "      <td>0</td>\n",
              "      <td>0</td>\n",
              "      <td>0</td>\n",
              "      <td>0</td>\n",
              "      <td>0</td>\n",
              "      <td>0</td>\n",
              "      <td>0</td>\n",
              "      <td>0</td>\n",
              "      <td>0</td>\n",
              "    </tr>\n",
              "    <tr>\n",
              "      <th>16</th>\n",
              "      <td>0</td>\n",
              "      <td>0</td>\n",
              "      <td>0</td>\n",
              "      <td>0</td>\n",
              "      <td>0</td>\n",
              "      <td>0</td>\n",
              "      <td>0</td>\n",
              "      <td>0</td>\n",
              "      <td>31</td>\n",
              "      <td>19</td>\n",
              "      <td>88</td>\n",
              "      <td>88</td>\n",
              "      <td>58</td>\n",
              "      <td>100</td>\n",
              "      <td>254</td>\n",
              "      <td>254</td>\n",
              "      <td>255</td>\n",
              "      <td>232</td>\n",
              "      <td>12</td>\n",
              "      <td>0</td>\n",
              "      <td>0</td>\n",
              "      <td>0</td>\n",
              "      <td>0</td>\n",
              "      <td>0</td>\n",
              "      <td>0</td>\n",
              "      <td>0</td>\n",
              "      <td>0</td>\n",
              "      <td>0</td>\n",
              "    </tr>\n",
              "    <tr>\n",
              "      <th>17</th>\n",
              "      <td>0</td>\n",
              "      <td>0</td>\n",
              "      <td>0</td>\n",
              "      <td>0</td>\n",
              "      <td>0</td>\n",
              "      <td>0</td>\n",
              "      <td>0</td>\n",
              "      <td>0</td>\n",
              "      <td>0</td>\n",
              "      <td>0</td>\n",
              "      <td>0</td>\n",
              "      <td>0</td>\n",
              "      <td>0</td>\n",
              "      <td>18</td>\n",
              "      <td>253</td>\n",
              "      <td>253</td>\n",
              "      <td>254</td>\n",
              "      <td>44</td>\n",
              "      <td>0</td>\n",
              "      <td>0</td>\n",
              "      <td>0</td>\n",
              "      <td>0</td>\n",
              "      <td>0</td>\n",
              "      <td>0</td>\n",
              "      <td>0</td>\n",
              "      <td>0</td>\n",
              "      <td>0</td>\n",
              "      <td>0</td>\n",
              "    </tr>\n",
              "    <tr>\n",
              "      <th>18</th>\n",
              "      <td>0</td>\n",
              "      <td>0</td>\n",
              "      <td>0</td>\n",
              "      <td>0</td>\n",
              "      <td>0</td>\n",
              "      <td>0</td>\n",
              "      <td>0</td>\n",
              "      <td>0</td>\n",
              "      <td>0</td>\n",
              "      <td>0</td>\n",
              "      <td>0</td>\n",
              "      <td>0</td>\n",
              "      <td>7</td>\n",
              "      <td>135</td>\n",
              "      <td>253</td>\n",
              "      <td>253</td>\n",
              "      <td>186</td>\n",
              "      <td>4</td>\n",
              "      <td>0</td>\n",
              "      <td>0</td>\n",
              "      <td>0</td>\n",
              "      <td>0</td>\n",
              "      <td>0</td>\n",
              "      <td>0</td>\n",
              "      <td>0</td>\n",
              "      <td>0</td>\n",
              "      <td>0</td>\n",
              "      <td>0</td>\n",
              "    </tr>\n",
              "    <tr>\n",
              "      <th>19</th>\n",
              "      <td>0</td>\n",
              "      <td>0</td>\n",
              "      <td>0</td>\n",
              "      <td>0</td>\n",
              "      <td>0</td>\n",
              "      <td>0</td>\n",
              "      <td>0</td>\n",
              "      <td>0</td>\n",
              "      <td>0</td>\n",
              "      <td>0</td>\n",
              "      <td>0</td>\n",
              "      <td>0</td>\n",
              "      <td>45</td>\n",
              "      <td>253</td>\n",
              "      <td>253</td>\n",
              "      <td>235</td>\n",
              "      <td>9</td>\n",
              "      <td>0</td>\n",
              "      <td>0</td>\n",
              "      <td>0</td>\n",
              "      <td>0</td>\n",
              "      <td>0</td>\n",
              "      <td>0</td>\n",
              "      <td>0</td>\n",
              "      <td>0</td>\n",
              "      <td>0</td>\n",
              "      <td>0</td>\n",
              "      <td>0</td>\n",
              "    </tr>\n",
              "    <tr>\n",
              "      <th>20</th>\n",
              "      <td>0</td>\n",
              "      <td>0</td>\n",
              "      <td>0</td>\n",
              "      <td>0</td>\n",
              "      <td>0</td>\n",
              "      <td>0</td>\n",
              "      <td>0</td>\n",
              "      <td>0</td>\n",
              "      <td>0</td>\n",
              "      <td>0</td>\n",
              "      <td>0</td>\n",
              "      <td>7</td>\n",
              "      <td>168</td>\n",
              "      <td>253</td>\n",
              "      <td>248</td>\n",
              "      <td>50</td>\n",
              "      <td>0</td>\n",
              "      <td>0</td>\n",
              "      <td>0</td>\n",
              "      <td>0</td>\n",
              "      <td>0</td>\n",
              "      <td>0</td>\n",
              "      <td>0</td>\n",
              "      <td>0</td>\n",
              "      <td>0</td>\n",
              "      <td>0</td>\n",
              "      <td>0</td>\n",
              "      <td>0</td>\n",
              "    </tr>\n",
              "    <tr>\n",
              "      <th>21</th>\n",
              "      <td>0</td>\n",
              "      <td>0</td>\n",
              "      <td>0</td>\n",
              "      <td>0</td>\n",
              "      <td>0</td>\n",
              "      <td>0</td>\n",
              "      <td>0</td>\n",
              "      <td>0</td>\n",
              "      <td>0</td>\n",
              "      <td>0</td>\n",
              "      <td>0</td>\n",
              "      <td>48</td>\n",
              "      <td>253</td>\n",
              "      <td>253</td>\n",
              "      <td>159</td>\n",
              "      <td>0</td>\n",
              "      <td>0</td>\n",
              "      <td>0</td>\n",
              "      <td>0</td>\n",
              "      <td>0</td>\n",
              "      <td>0</td>\n",
              "      <td>0</td>\n",
              "      <td>0</td>\n",
              "      <td>0</td>\n",
              "      <td>0</td>\n",
              "      <td>0</td>\n",
              "      <td>0</td>\n",
              "      <td>0</td>\n",
              "    </tr>\n",
              "    <tr>\n",
              "      <th>22</th>\n",
              "      <td>0</td>\n",
              "      <td>0</td>\n",
              "      <td>0</td>\n",
              "      <td>0</td>\n",
              "      <td>0</td>\n",
              "      <td>0</td>\n",
              "      <td>0</td>\n",
              "      <td>0</td>\n",
              "      <td>0</td>\n",
              "      <td>0</td>\n",
              "      <td>20</td>\n",
              "      <td>211</td>\n",
              "      <td>253</td>\n",
              "      <td>245</td>\n",
              "      <td>39</td>\n",
              "      <td>0</td>\n",
              "      <td>0</td>\n",
              "      <td>0</td>\n",
              "      <td>0</td>\n",
              "      <td>0</td>\n",
              "      <td>0</td>\n",
              "      <td>0</td>\n",
              "      <td>0</td>\n",
              "      <td>0</td>\n",
              "      <td>0</td>\n",
              "      <td>0</td>\n",
              "      <td>0</td>\n",
              "      <td>0</td>\n",
              "    </tr>\n",
              "    <tr>\n",
              "      <th>23</th>\n",
              "      <td>0</td>\n",
              "      <td>0</td>\n",
              "      <td>0</td>\n",
              "      <td>0</td>\n",
              "      <td>0</td>\n",
              "      <td>0</td>\n",
              "      <td>0</td>\n",
              "      <td>0</td>\n",
              "      <td>0</td>\n",
              "      <td>4</td>\n",
              "      <td>149</td>\n",
              "      <td>253</td>\n",
              "      <td>251</td>\n",
              "      <td>128</td>\n",
              "      <td>0</td>\n",
              "      <td>0</td>\n",
              "      <td>0</td>\n",
              "      <td>0</td>\n",
              "      <td>0</td>\n",
              "      <td>0</td>\n",
              "      <td>0</td>\n",
              "      <td>0</td>\n",
              "      <td>0</td>\n",
              "      <td>0</td>\n",
              "      <td>0</td>\n",
              "      <td>0</td>\n",
              "      <td>0</td>\n",
              "      <td>0</td>\n",
              "    </tr>\n",
              "    <tr>\n",
              "      <th>24</th>\n",
              "      <td>0</td>\n",
              "      <td>0</td>\n",
              "      <td>0</td>\n",
              "      <td>0</td>\n",
              "      <td>0</td>\n",
              "      <td>0</td>\n",
              "      <td>0</td>\n",
              "      <td>0</td>\n",
              "      <td>0</td>\n",
              "      <td>53</td>\n",
              "      <td>253</td>\n",
              "      <td>253</td>\n",
              "      <td>193</td>\n",
              "      <td>0</td>\n",
              "      <td>0</td>\n",
              "      <td>0</td>\n",
              "      <td>0</td>\n",
              "      <td>0</td>\n",
              "      <td>0</td>\n",
              "      <td>0</td>\n",
              "      <td>0</td>\n",
              "      <td>0</td>\n",
              "      <td>0</td>\n",
              "      <td>0</td>\n",
              "      <td>0</td>\n",
              "      <td>0</td>\n",
              "      <td>0</td>\n",
              "      <td>0</td>\n",
              "    </tr>\n",
              "    <tr>\n",
              "      <th>25</th>\n",
              "      <td>0</td>\n",
              "      <td>0</td>\n",
              "      <td>0</td>\n",
              "      <td>0</td>\n",
              "      <td>0</td>\n",
              "      <td>0</td>\n",
              "      <td>0</td>\n",
              "      <td>0</td>\n",
              "      <td>0</td>\n",
              "      <td>35</td>\n",
              "      <td>241</td>\n",
              "      <td>228</td>\n",
              "      <td>43</td>\n",
              "      <td>0</td>\n",
              "      <td>0</td>\n",
              "      <td>0</td>\n",
              "      <td>0</td>\n",
              "      <td>0</td>\n",
              "      <td>0</td>\n",
              "      <td>0</td>\n",
              "      <td>0</td>\n",
              "      <td>0</td>\n",
              "      <td>0</td>\n",
              "      <td>0</td>\n",
              "      <td>0</td>\n",
              "      <td>0</td>\n",
              "      <td>0</td>\n",
              "      <td>0</td>\n",
              "    </tr>\n",
              "    <tr>\n",
              "      <th>26</th>\n",
              "      <td>0</td>\n",
              "      <td>0</td>\n",
              "      <td>0</td>\n",
              "      <td>0</td>\n",
              "      <td>0</td>\n",
              "      <td>0</td>\n",
              "      <td>0</td>\n",
              "      <td>0</td>\n",
              "      <td>0</td>\n",
              "      <td>0</td>\n",
              "      <td>0</td>\n",
              "      <td>0</td>\n",
              "      <td>0</td>\n",
              "      <td>0</td>\n",
              "      <td>0</td>\n",
              "      <td>0</td>\n",
              "      <td>0</td>\n",
              "      <td>0</td>\n",
              "      <td>0</td>\n",
              "      <td>0</td>\n",
              "      <td>0</td>\n",
              "      <td>0</td>\n",
              "      <td>0</td>\n",
              "      <td>0</td>\n",
              "      <td>0</td>\n",
              "      <td>0</td>\n",
              "      <td>0</td>\n",
              "      <td>0</td>\n",
              "    </tr>\n",
              "    <tr>\n",
              "      <th>27</th>\n",
              "      <td>0</td>\n",
              "      <td>0</td>\n",
              "      <td>0</td>\n",
              "      <td>0</td>\n",
              "      <td>0</td>\n",
              "      <td>0</td>\n",
              "      <td>0</td>\n",
              "      <td>0</td>\n",
              "      <td>0</td>\n",
              "      <td>0</td>\n",
              "      <td>0</td>\n",
              "      <td>0</td>\n",
              "      <td>0</td>\n",
              "      <td>0</td>\n",
              "      <td>0</td>\n",
              "      <td>0</td>\n",
              "      <td>0</td>\n",
              "      <td>0</td>\n",
              "      <td>0</td>\n",
              "      <td>0</td>\n",
              "      <td>0</td>\n",
              "      <td>0</td>\n",
              "      <td>0</td>\n",
              "      <td>0</td>\n",
              "      <td>0</td>\n",
              "      <td>0</td>\n",
              "      <td>0</td>\n",
              "      <td>0</td>\n",
              "    </tr>\n",
              "  </tbody>\n",
              "</table>\n",
              "</div>\n",
              "    <div class=\"colab-df-buttons\">\n",
              "\n",
              "  <div class=\"colab-df-container\">\n",
              "    <button class=\"colab-df-convert\" onclick=\"convertToInteractive('df-9478bf80-5f28-4f98-9ff7-f7a08e0c251b')\"\n",
              "            title=\"Convert this dataframe to an interactive table.\"\n",
              "            style=\"display:none;\">\n",
              "\n",
              "  <svg xmlns=\"http://www.w3.org/2000/svg\" height=\"24px\" viewBox=\"0 -960 960 960\">\n",
              "    <path d=\"M120-120v-720h720v720H120Zm60-500h600v-160H180v160Zm220 220h160v-160H400v160Zm0 220h160v-160H400v160ZM180-400h160v-160H180v160Zm440 0h160v-160H620v160ZM180-180h160v-160H180v160Zm440 0h160v-160H620v160Z\"/>\n",
              "  </svg>\n",
              "    </button>\n",
              "\n",
              "  <style>\n",
              "    .colab-df-container {\n",
              "      display:flex;\n",
              "      gap: 12px;\n",
              "    }\n",
              "\n",
              "    .colab-df-convert {\n",
              "      background-color: #E8F0FE;\n",
              "      border: none;\n",
              "      border-radius: 50%;\n",
              "      cursor: pointer;\n",
              "      display: none;\n",
              "      fill: #1967D2;\n",
              "      height: 32px;\n",
              "      padding: 0 0 0 0;\n",
              "      width: 32px;\n",
              "    }\n",
              "\n",
              "    .colab-df-convert:hover {\n",
              "      background-color: #E2EBFA;\n",
              "      box-shadow: 0px 1px 2px rgba(60, 64, 67, 0.3), 0px 1px 3px 1px rgba(60, 64, 67, 0.15);\n",
              "      fill: #174EA6;\n",
              "    }\n",
              "\n",
              "    .colab-df-buttons div {\n",
              "      margin-bottom: 4px;\n",
              "    }\n",
              "\n",
              "    [theme=dark] .colab-df-convert {\n",
              "      background-color: #3B4455;\n",
              "      fill: #D2E3FC;\n",
              "    }\n",
              "\n",
              "    [theme=dark] .colab-df-convert:hover {\n",
              "      background-color: #434B5C;\n",
              "      box-shadow: 0px 1px 3px 1px rgba(0, 0, 0, 0.15);\n",
              "      filter: drop-shadow(0px 1px 2px rgba(0, 0, 0, 0.3));\n",
              "      fill: #FFFFFF;\n",
              "    }\n",
              "  </style>\n",
              "\n",
              "    <script>\n",
              "      const buttonEl =\n",
              "        document.querySelector('#df-9478bf80-5f28-4f98-9ff7-f7a08e0c251b button.colab-df-convert');\n",
              "      buttonEl.style.display =\n",
              "        google.colab.kernel.accessAllowed ? 'block' : 'none';\n",
              "\n",
              "      async function convertToInteractive(key) {\n",
              "        const element = document.querySelector('#df-9478bf80-5f28-4f98-9ff7-f7a08e0c251b');\n",
              "        const dataTable =\n",
              "          await google.colab.kernel.invokeFunction('convertToInteractive',\n",
              "                                                    [key], {});\n",
              "        if (!dataTable) return;\n",
              "\n",
              "        const docLinkHtml = 'Like what you see? Visit the ' +\n",
              "          '<a target=\"_blank\" href=https://colab.research.google.com/notebooks/data_table.ipynb>data table notebook</a>'\n",
              "          + ' to learn more about interactive tables.';\n",
              "        element.innerHTML = '';\n",
              "        dataTable['output_type'] = 'display_data';\n",
              "        await google.colab.output.renderOutput(dataTable, element);\n",
              "        const docLink = document.createElement('div');\n",
              "        docLink.innerHTML = docLinkHtml;\n",
              "        element.appendChild(docLink);\n",
              "      }\n",
              "    </script>\n",
              "  </div>\n",
              "\n",
              "\n",
              "<div id=\"df-d709a11c-8203-4c4b-ab49-2c207127c1f6\">\n",
              "  <button class=\"colab-df-quickchart\" onclick=\"quickchart('df-d709a11c-8203-4c4b-ab49-2c207127c1f6')\"\n",
              "            title=\"Suggest charts\"\n",
              "            style=\"display:none;\">\n",
              "\n",
              "<svg xmlns=\"http://www.w3.org/2000/svg\" height=\"24px\"viewBox=\"0 0 24 24\"\n",
              "     width=\"24px\">\n",
              "    <g>\n",
              "        <path d=\"M19 3H5c-1.1 0-2 .9-2 2v14c0 1.1.9 2 2 2h14c1.1 0 2-.9 2-2V5c0-1.1-.9-2-2-2zM9 17H7v-7h2v7zm4 0h-2V7h2v10zm4 0h-2v-4h2v4z\"/>\n",
              "    </g>\n",
              "</svg>\n",
              "  </button>\n",
              "\n",
              "<style>\n",
              "  .colab-df-quickchart {\n",
              "      --bg-color: #E8F0FE;\n",
              "      --fill-color: #1967D2;\n",
              "      --hover-bg-color: #E2EBFA;\n",
              "      --hover-fill-color: #174EA6;\n",
              "      --disabled-fill-color: #AAA;\n",
              "      --disabled-bg-color: #DDD;\n",
              "  }\n",
              "\n",
              "  [theme=dark] .colab-df-quickchart {\n",
              "      --bg-color: #3B4455;\n",
              "      --fill-color: #D2E3FC;\n",
              "      --hover-bg-color: #434B5C;\n",
              "      --hover-fill-color: #FFFFFF;\n",
              "      --disabled-bg-color: #3B4455;\n",
              "      --disabled-fill-color: #666;\n",
              "  }\n",
              "\n",
              "  .colab-df-quickchart {\n",
              "    background-color: var(--bg-color);\n",
              "    border: none;\n",
              "    border-radius: 50%;\n",
              "    cursor: pointer;\n",
              "    display: none;\n",
              "    fill: var(--fill-color);\n",
              "    height: 32px;\n",
              "    padding: 0;\n",
              "    width: 32px;\n",
              "  }\n",
              "\n",
              "  .colab-df-quickchart:hover {\n",
              "    background-color: var(--hover-bg-color);\n",
              "    box-shadow: 0 1px 2px rgba(60, 64, 67, 0.3), 0 1px 3px 1px rgba(60, 64, 67, 0.15);\n",
              "    fill: var(--button-hover-fill-color);\n",
              "  }\n",
              "\n",
              "  .colab-df-quickchart-complete:disabled,\n",
              "  .colab-df-quickchart-complete:disabled:hover {\n",
              "    background-color: var(--disabled-bg-color);\n",
              "    fill: var(--disabled-fill-color);\n",
              "    box-shadow: none;\n",
              "  }\n",
              "\n",
              "  .colab-df-spinner {\n",
              "    border: 2px solid var(--fill-color);\n",
              "    border-color: transparent;\n",
              "    border-bottom-color: var(--fill-color);\n",
              "    animation:\n",
              "      spin 1s steps(1) infinite;\n",
              "  }\n",
              "\n",
              "  @keyframes spin {\n",
              "    0% {\n",
              "      border-color: transparent;\n",
              "      border-bottom-color: var(--fill-color);\n",
              "      border-left-color: var(--fill-color);\n",
              "    }\n",
              "    20% {\n",
              "      border-color: transparent;\n",
              "      border-left-color: var(--fill-color);\n",
              "      border-top-color: var(--fill-color);\n",
              "    }\n",
              "    30% {\n",
              "      border-color: transparent;\n",
              "      border-left-color: var(--fill-color);\n",
              "      border-top-color: var(--fill-color);\n",
              "      border-right-color: var(--fill-color);\n",
              "    }\n",
              "    40% {\n",
              "      border-color: transparent;\n",
              "      border-right-color: var(--fill-color);\n",
              "      border-top-color: var(--fill-color);\n",
              "    }\n",
              "    60% {\n",
              "      border-color: transparent;\n",
              "      border-right-color: var(--fill-color);\n",
              "    }\n",
              "    80% {\n",
              "      border-color: transparent;\n",
              "      border-right-color: var(--fill-color);\n",
              "      border-bottom-color: var(--fill-color);\n",
              "    }\n",
              "    90% {\n",
              "      border-color: transparent;\n",
              "      border-bottom-color: var(--fill-color);\n",
              "    }\n",
              "  }\n",
              "</style>\n",
              "\n",
              "  <script>\n",
              "    async function quickchart(key) {\n",
              "      const quickchartButtonEl =\n",
              "        document.querySelector('#' + key + ' button');\n",
              "      quickchartButtonEl.disabled = true;  // To prevent multiple clicks.\n",
              "      quickchartButtonEl.classList.add('colab-df-spinner');\n",
              "      try {\n",
              "        const charts = await google.colab.kernel.invokeFunction(\n",
              "            'suggestCharts', [key], {});\n",
              "      } catch (error) {\n",
              "        console.error('Error during call to suggestCharts:', error);\n",
              "      }\n",
              "      quickchartButtonEl.classList.remove('colab-df-spinner');\n",
              "      quickchartButtonEl.classList.add('colab-df-quickchart-complete');\n",
              "    }\n",
              "    (() => {\n",
              "      let quickchartButtonEl =\n",
              "        document.querySelector('#df-d709a11c-8203-4c4b-ab49-2c207127c1f6 button');\n",
              "      quickchartButtonEl.style.display =\n",
              "        google.colab.kernel.accessAllowed ? 'block' : 'none';\n",
              "    })();\n",
              "  </script>\n",
              "</div>\n",
              "\n",
              "    </div>\n",
              "  </div>\n"
            ],
            "application/vnd.google.colaboratory.intrinsic+json": {
              "type": "dataframe"
            }
          },
          "metadata": {},
          "execution_count": 3
        }
      ],
      "source": [
        "import pandas as pd\n",
        "pd.set_option('display.max_columns', None)\n",
        "pd.DataFrame(x_train[i])"
      ]
    },
    {
      "cell_type": "code",
      "execution_count": 4,
      "metadata": {
        "id": "qeoQHB1B8nC7",
        "colab": {
          "base_uri": "https://localhost:8080/"
        },
        "outputId": "5f66cb9b-446b-49ff-aab7-617b870d1ce8"
      },
      "outputs": [
        {
          "output_type": "stream",
          "name": "stdout",
          "text": [
            "Downloading data from https://www.cs.toronto.edu/~kriz/cifar-10-python.tar.gz\n",
            "170498071/170498071 [==============================] - 3s 0us/step\n",
            "(50000, 32, 32, 3) (50000, 1)\n",
            "(10000, 32, 32, 3) (10000, 1)\n"
          ]
        }
      ],
      "source": [
        "import tensorflow as tf\n",
        "\n",
        "(x_train, y_train), (x_test, y_test) = tf.keras.datasets.cifar10.load_data()\n",
        "print(x_train.shape, y_train.shape)\n",
        "print(x_test.shape, y_test.shape)"
      ]
    },
    {
      "cell_type": "code",
      "execution_count": 5,
      "metadata": {
        "id": "9G3GwSDz9O9P",
        "colab": {
          "base_uri": "https://localhost:8080/",
          "height": 466
        },
        "outputId": "4080d0af-39c7-4c49-dad0-0adf129b9c5d"
      },
      "outputs": [
        {
          "output_type": "stream",
          "name": "stdout",
          "text": [
            "[4]\n"
          ]
        },
        {
          "output_type": "execute_result",
          "data": {
            "text/plain": [
              "<matplotlib.image.AxesImage at 0x7e112331d360>"
            ]
          },
          "metadata": {},
          "execution_count": 5
        },
        {
          "output_type": "display_data",
          "data": {
            "text/plain": [
              "<Figure size 640x480 with 1 Axes>"
            ],
            "image/png": "[encoded data removed]"
          },
          "metadata": {}
        }
      ],
      "source": [
        "import matplotlib.pyplot as plt\n",
        "i = 3\n",
        "print(y_train[i])\n",
        "plt.imshow(x_train[i])"
      ]
    },
    {
      "cell_type": "markdown",
      "metadata": {
        "id": "kTqyU4axweKx"
      },
      "source": [
        "## MNIST 손글씨 분류 - Flatten"
      ]
    },
    {
      "cell_type": "code",
      "execution_count": 6,
      "metadata": {
        "id": "hY9Jd6qw9cC6"
      },
      "outputs": [],
      "source": [
        "import tensorflow as tf\n",
        "import pandas as pd"
      ]
    },
    {
      "cell_type": "code",
      "execution_count": 7,
      "metadata": {
        "id": "Sl4OVpq2msro",
        "colab": {
          "base_uri": "https://localhost:8080/"
        },
        "outputId": "2d813d06-0b26-4563-8483-6327832fe78a"
      },
      "outputs": [
        {
          "output_type": "stream",
          "name": "stdout",
          "text": [
            "(60000, 28, 28) (60000,)\n",
            "(50000, 32, 32, 3) (50000, 1)\n"
          ]
        }
      ],
      "source": [
        "# MNIST\n",
        "(x_train, y_train), (x_test, y_test) = tf.keras.datasets.mnist.load_data()\n",
        "print(x_train.shape, y_train.shape)\n",
        "# (60000, 28, 28, 1) (60000,)\n",
        "\n",
        "# CIFAR-10\n",
        "(x_train, y_train), (x_test, y_test) = tf.keras.datasets.cifar10.load_data()\n",
        "print(x_train.shape, y_train.shape)\n",
        "# (50000, 28, 28, 1) (50000, 1)\n"
      ]
    },
    {
      "cell_type": "code",
      "execution_count": 8,
      "metadata": {
        "colab": {
          "base_uri": "https://localhost:8080/"
        },
        "id": "wsJqgY5FF7-I",
        "outputId": "9ba739ea-8687-4a82-ab97-eb60f4b2f99a"
      },
      "outputs": [
        {
          "output_type": "stream",
          "name": "stdout",
          "text": [
            "(60000, 28, 28) (60000,)\n",
            "(10000, 28, 28) (10000,)\n",
            "(60000, 784) (60000, 10)\n",
            "(10000, 784) (10000, 10)\n",
            "Model: \"model\"\n",
            "_________________________________________________________________\n",
            " Layer (type)                Output Shape              Param #   \n",
            "=================================================================\n",
            " input_1 (InputLayer)        [(None, 784)]             0         \n",
            "                                                                 \n",
            " dense (Dense)               (None, 84)                65940     \n",
            "                                                                 \n",
            " dense_1 (Dense)             (None, 10)                850       \n",
            "                                                                 \n",
            "=================================================================\n",
            "Total params: 66790 (260.90 KB)\n",
            "Trainable params: 66790 (260.90 KB)\n",
            "Non-trainable params: 0 (0.00 Byte)\n",
            "_________________________________________________________________\n",
            "Epoch 1/10\n",
            "422/422 [==============================] - 3s 4ms/step - loss: 4.3936 - accuracy: 0.8363 - val_loss: 0.7637 - val_accuracy: 0.8710\n",
            "Epoch 2/10\n",
            "422/422 [==============================] - 1s 3ms/step - loss: 0.6040 - accuracy: 0.8990 - val_loss: 0.4187 - val_accuracy: 0.9173\n",
            "Epoch 3/10\n",
            "422/422 [==============================] - 1s 3ms/step - loss: 0.4120 - accuracy: 0.9256 - val_loss: 0.3628 - val_accuracy: 0.9337\n",
            "Epoch 4/10\n",
            "422/422 [==============================] - 1s 3ms/step - loss: 0.3242 - accuracy: 0.9411 - val_loss: 0.2808 - val_accuracy: 0.9430\n",
            "Epoch 5/10\n",
            "422/422 [==============================] - 1s 3ms/step - loss: 0.2709 - accuracy: 0.9471 - val_loss: 0.2967 - val_accuracy: 0.9498\n",
            "Epoch 6/10\n",
            "422/422 [==============================] - 1s 3ms/step - loss: 0.2388 - accuracy: 0.9529 - val_loss: 0.2989 - val_accuracy: 0.9507\n",
            "Epoch 7/10\n",
            "422/422 [==============================] - 2s 4ms/step - loss: 0.2065 - accuracy: 0.9585 - val_loss: 0.2917 - val_accuracy: 0.9530\n",
            "Epoch 8/10\n",
            "422/422 [==============================] - 2s 4ms/step - loss: 0.1873 - accuracy: 0.9621 - val_loss: 0.2784 - val_accuracy: 0.9583\n",
            "Epoch 9/10\n",
            "422/422 [==============================] - 1s 3ms/step - loss: 0.1818 - accuracy: 0.9637 - val_loss: 0.3048 - val_accuracy: 0.9612\n",
            "Epoch 10/10\n",
            "422/422 [==============================] - 1s 3ms/step - loss: 0.1666 - accuracy: 0.9671 - val_loss: 0.2908 - val_accuracy: 0.9588\n"
          ]
        },
        {
          "output_type": "execute_result",
          "data": {
            "text/plain": [
              "<keras.src.callbacks.History at 0x7e11253f4a30>"
            ]
          },
          "metadata": {},
          "execution_count": 8
        }
      ],
      "source": [
        "# 데이터 준비\n",
        "(x_train, y_train), (x_test, y_test)= tf.keras.datasets.mnist.load_data()\n",
        "print(x_train.shape, y_train.shape)\n",
        "print(x_test.shape, y_test.shape)\n",
        "\n",
        "x_train = x_train.reshape(60000, 28 * 28)\n",
        "x_test = x_test.reshape(10000, 28 * 28)\n",
        "y_train = pd.get_dummies(y_train)\n",
        "y_test = pd.get_dummies(y_test)\n",
        "\n",
        "print(x_train.shape, y_train.shape)\n",
        "print(x_test.shape, y_test.shape)\n",
        "\n",
        "# 모델 준비\n",
        "X = tf.keras.Input(shape=[28 * 28])\n",
        "H = tf.keras.layers.Dense(84, activation=\"swish\")(X)\n",
        "Y = tf.keras.layers.Dense(10, activation=\"softmax\")(H)\n",
        "model = tf.keras.Model(X, Y)\n",
        "model.compile(loss=\"categorical_crossentropy\", metrics=\"accuracy\")\n",
        "model.summary()\n",
        "\n",
        "# 모델 학습\n",
        "model.fit(x_train, y_train, epochs=10, validation_split=0.1, batch_size=128)"
      ]
    },
    {
      "cell_type": "code",
      "execution_count": 9,
      "metadata": {
        "id": "XLsl_kkKwk2y",
        "colab": {
          "base_uri": "https://localhost:8080/"
        },
        "outputId": "d769093f-b4df-4a24-a64d-7b7fbf5e7999"
      },
      "outputs": [
        {
          "output_type": "stream",
          "name": "stdout",
          "text": [
            "(60000, 28, 28) (60000,)\n",
            "(10000, 28, 28) (10000,)\n",
            "(60000, 28, 28) (60000, 10)\n",
            "(10000, 28, 28) (10000, 10)\n",
            "Model: \"model_1\"\n",
            "_________________________________________________________________\n",
            " Layer (type)                Output Shape              Param #   \n",
            "=================================================================\n",
            " input_2 (InputLayer)        [(None, 28, 28)]          0         \n",
            "                                                                 \n",
            " flatten (Flatten)           (None, 784)               0         \n",
            "                                                                 \n",
            " dense_2 (Dense)             (None, 84)                65940     \n",
            "                                                                 \n",
            " dense_3 (Dense)             (None, 10)                850       \n",
            "                                                                 \n",
            "=================================================================\n",
            "Total params: 66790 (260.90 KB)\n",
            "Trainable params: 66790 (260.90 KB)\n",
            "Non-trainable params: 0 (0.00 Byte)\n",
            "_________________________________________________________________\n",
            "Epoch 1/10\n",
            "422/422 [==============================] - 2s 4ms/step - loss: 4.4517 - accuracy: 0.8370 - val_loss: 0.6631 - val_accuracy: 0.8758\n",
            "Epoch 2/10\n",
            "422/422 [==============================] - 1s 3ms/step - loss: 0.5934 - accuracy: 0.8959 - val_loss: 0.3800 - val_accuracy: 0.9265\n",
            "Epoch 3/10\n",
            "422/422 [==============================] - 1s 3ms/step - loss: 0.3914 - accuracy: 0.9286 - val_loss: 0.4083 - val_accuracy: 0.9363\n",
            "Epoch 4/10\n",
            "422/422 [==============================] - 1s 3ms/step - loss: 0.3152 - accuracy: 0.9409 - val_loss: 0.3260 - val_accuracy: 0.9460\n",
            "Epoch 5/10\n",
            "422/422 [==============================] - 2s 4ms/step - loss: 0.2503 - accuracy: 0.9505 - val_loss: 0.2827 - val_accuracy: 0.9538\n",
            "Epoch 6/10\n",
            "422/422 [==============================] - 2s 4ms/step - loss: 0.2150 - accuracy: 0.9552 - val_loss: 0.3144 - val_accuracy: 0.9540\n",
            "Epoch 7/10\n",
            "422/422 [==============================] - 1s 3ms/step - loss: 0.2097 - accuracy: 0.9590 - val_loss: 0.3076 - val_accuracy: 0.9567\n",
            "Epoch 8/10\n",
            "422/422 [==============================] - 1s 3ms/step - loss: 0.1819 - accuracy: 0.9631 - val_loss: 0.2890 - val_accuracy: 0.9573\n",
            "Epoch 9/10\n",
            "422/422 [==============================] - 1s 3ms/step - loss: 0.1648 - accuracy: 0.9654 - val_loss: 0.2663 - val_accuracy: 0.9607\n",
            "Epoch 10/10\n",
            "422/422 [==============================] - 1s 3ms/step - loss: 0.1532 - accuracy: 0.9691 - val_loss: 0.2557 - val_accuracy: 0.9597\n"
          ]
        },
        {
          "output_type": "execute_result",
          "data": {
            "text/plain": [
              "<keras.src.callbacks.History at 0x7e1119f1f700>"
            ]
          },
          "metadata": {},
          "execution_count": 9
        }
      ],
      "source": [
        "# 데이터 준비\n",
        "(x_train, y_train), (x_test, y_test)= tf.keras.datasets.mnist.load_data()\n",
        "print(x_train.shape, y_train.shape)\n",
        "print(x_test.shape, y_test.shape)\n",
        "\n",
        "# x_train = x_train.reshape(60000, 28 * 28)\n",
        "# x_test = x_test.reshape(10000, 28 * 28)\n",
        "y_train = pd.get_dummies(y_train)\n",
        "y_test = pd.get_dummies(y_test)\n",
        "\n",
        "print(x_train.shape, y_train.shape)\n",
        "print(x_test.shape, y_test.shape)\n",
        "\n",
        "# 모델 준비\n",
        "X = tf.keras.Input(shape=[28, 28])\n",
        "H = tf.keras.layers.Flatten()(X)\n",
        "H = tf.keras.layers.Dense(84, activation=\"swish\")(H)\n",
        "Y = tf.keras.layers.Dense(10, activation=\"softmax\")(H)\n",
        "model = tf.keras.Model(X, Y)\n",
        "model.compile(loss=\"categorical_crossentropy\", metrics=\"accuracy\")\n",
        "model.summary()\n",
        "\n",
        "# 모델 학습\n",
        "model.fit(x_train, y_train, epochs=10, validation_split=0.1, batch_size=128)"
      ]
    },
    {
      "cell_type": "code",
      "execution_count": 10,
      "metadata": {
        "id": "PIaWNtty68ku",
        "colab": {
          "base_uri": "https://localhost:8080/"
        },
        "outputId": "a8567d3d-d2c9-4576-df74-0d1322037629"
      },
      "outputs": [
        {
          "output_type": "stream",
          "name": "stdout",
          "text": [
            "313/313 [==============================] - 1s 2ms/step - loss: 0.3504 - accuracy: 0.9536\n"
          ]
        },
        {
          "output_type": "execute_result",
          "data": {
            "text/plain": [
              "[0.3504386842250824, 0.9535999894142151]"
            ]
          },
          "metadata": {},
          "execution_count": 10
        }
      ],
      "source": [
        "# 모델 평가\n",
        "model.evaluate(x_test, y_test)"
      ]
    },
    {
      "cell_type": "code",
      "execution_count": 11,
      "metadata": {
        "id": "CkBdgLBSwpP3",
        "colab": {
          "base_uri": "https://localhost:8080/",
          "height": 521
        },
        "outputId": "d018883a-3d72-4509-f4ba-6eaf4ed3f9ab"
      },
      "outputs": [
        {
          "output_type": "stream",
          "name": "stdout",
          "text": [
            "      0  1  2  3  4  5  6  7  8  9\n",
            "9538  0  0  0  0  1  0  0  0  0  0\n",
            "1/1 [==============================] - 0s 100ms/step\n",
            "[[1.7013861e-38 3.0882838e-08 8.8456582e-15 1.0867807e-16 4.1816056e-02\n",
            "  6.7416037e-14 8.2738473e-25 4.1756039e-08 1.5590597e-04 9.5802796e-01]]\n"
          ]
        },
        {
          "output_type": "display_data",
          "data": {
            "text/plain": [
              "<Figure size 640x480 with 1 Axes>"
            ],
            "image/png": "[encoded data removed]"
          },
          "metadata": {}
        }
      ],
      "source": [
        "# 모델 이용\n",
        "import matplotlib.pyplot as plt\n",
        "\n",
        "num = 9538\n",
        "print(y_test[num:num+1])\n",
        "print(model.predict(x_test[num:num+1]))\n",
        "\n",
        "plt.imshow(x_test[num].reshape(28, 28), cmap=\"gray\")\n",
        "plt.show()"
      ]
    },
    {
      "cell_type": "markdown",
      "metadata": {
        "id": "Vy5qoZ2qNYrA"
      },
      "source": [
        "## MNIST 손글씨 분류 - Convolution"
      ]
    },
    {
      "cell_type": "code",
      "execution_count": 12,
      "metadata": {
        "id": "wg4jIxttwp2O"
      },
      "outputs": [],
      "source": [
        "import tensorflow as tf\n",
        "import pandas as pd"
      ]
    },
    {
      "cell_type": "code",
      "execution_count": 13,
      "metadata": {
        "id": "ej9cxgo4Nekh",
        "colab": {
          "base_uri": "https://localhost:8080/"
        },
        "outputId": "fbd7770c-8cd0-4271-dd90-9cf76dbefaee"
      },
      "outputs": [
        {
          "output_type": "stream",
          "name": "stdout",
          "text": [
            "(60000, 28, 28, 1) (60000, 10)\n",
            "(10000, 28, 28, 1) (10000, 10)\n"
          ]
        }
      ],
      "source": [
        "# 데이터 준비\n",
        "(x_train, y_train), (x_test, y_test) = tf.keras.datasets.mnist.load_data()\n",
        "x_train = x_train.reshape(60000, 28, 28, 1)\n",
        "x_test = x_test.reshape(10000, 28, 28, 1)\n",
        "y_train = pd.get_dummies(y_train)\n",
        "y_test = pd.get_dummies(y_test)\n",
        "\n",
        "print(x_train.shape, y_train.shape)\n",
        "print(x_test.shape, y_test.shape)"
      ]
    },
    {
      "cell_type": "code",
      "execution_count": 14,
      "metadata": {
        "id": "d0cPSDRZNwxL",
        "colab": {
          "base_uri": "https://localhost:8080/"
        },
        "outputId": "7d105558-90e3-49db-cdd7-dc3f3131e07b"
      },
      "outputs": [
        {
          "output_type": "stream",
          "name": "stdout",
          "text": [
            "Model: \"model_2\"\n",
            "_________________________________________________________________\n",
            " Layer (type)                Output Shape              Param #   \n",
            "=================================================================\n",
            " input_3 (InputLayer)        [(None, 28, 28, 1)]       0         \n",
            "                                                                 \n",
            " conv2d (Conv2D)             (None, 24, 24, 3)         78        \n",
            "                                                                 \n",
            " conv2d_1 (Conv2D)           (None, 20, 20, 6)         456       \n",
            "                                                                 \n",
            " flatten_1 (Flatten)         (None, 2400)              0         \n",
            "                                                                 \n",
            " dense_4 (Dense)             (None, 84)                201684    \n",
            "                                                                 \n",
            " dense_5 (Dense)             (None, 10)                850       \n",
            "                                                                 \n",
            "=================================================================\n",
            "Total params: 203068 (793.23 KB)\n",
            "Trainable params: 203068 (793.23 KB)\n",
            "Non-trainable params: 0 (0.00 Byte)\n",
            "_________________________________________________________________\n"
          ]
        }
      ],
      "source": [
        "# 모델 생성\n",
        "X = tf.keras.Input(shape=[28, 28, 1])\n",
        "H = tf.keras.layers.Conv2D(3, kernel_size=5, activation='swish')(X)\n",
        "H = tf.keras.layers.Conv2D(6, kernel_size=5, activation='swish')(H)\n",
        "H = tf.keras.layers.Flatten()(H)\n",
        "H = tf.keras.layers.Dense(84, activation='swish')(H)\n",
        "Y = tf.keras.layers.Dense(10, activation='softmax')(H)\n",
        "\n",
        "model = tf.keras.Model(X, Y)\n",
        "model.compile(loss=\"categorical_crossentropy\", metrics=\"accuracy\")\n",
        "model.summary()"
      ]
    },
    {
      "cell_type": "code",
      "execution_count": 15,
      "metadata": {
        "id": "0wRFFDeBN257",
        "colab": {
          "base_uri": "https://localhost:8080/"
        },
        "outputId": "ae59f946-f357-43c6-8aec-598e6ed17845"
      },
      "outputs": [
        {
          "output_type": "stream",
          "name": "stdout",
          "text": [
            "Epoch 1/10\n",
            "422/422 [==============================] - 6s 8ms/step - loss: 1.8586 - accuracy: 0.8798 - val_loss: 0.1201 - val_accuracy: 0.9663\n",
            "Epoch 2/10\n",
            "422/422 [==============================] - 3s 6ms/step - loss: 0.0946 - accuracy: 0.9736 - val_loss: 0.0839 - val_accuracy: 0.9777\n",
            "Epoch 3/10\n",
            "422/422 [==============================] - 2s 4ms/step - loss: 0.0463 - accuracy: 0.9853 - val_loss: 0.0763 - val_accuracy: 0.9815\n",
            "Epoch 4/10\n",
            "422/422 [==============================] - 2s 4ms/step - loss: 0.0248 - accuracy: 0.9920 - val_loss: 0.1315 - val_accuracy: 0.9743\n",
            "Epoch 5/10\n",
            "422/422 [==============================] - 2s 4ms/step - loss: 0.0150 - accuracy: 0.9952 - val_loss: 0.1058 - val_accuracy: 0.9810\n",
            "Epoch 6/10\n",
            "422/422 [==============================] - 2s 6ms/step - loss: 0.0119 - accuracy: 0.9964 - val_loss: 0.1145 - val_accuracy: 0.9793\n",
            "Epoch 7/10\n",
            "422/422 [==============================] - 2s 4ms/step - loss: 0.0087 - accuracy: 0.9973 - val_loss: 0.1313 - val_accuracy: 0.9803\n",
            "Epoch 8/10\n",
            "422/422 [==============================] - 2s 4ms/step - loss: 0.0082 - accuracy: 0.9975 - val_loss: 0.1354 - val_accuracy: 0.9765\n",
            "Epoch 9/10\n",
            "422/422 [==============================] - 2s 4ms/step - loss: 0.0054 - accuracy: 0.9984 - val_loss: 0.1630 - val_accuracy: 0.9797\n",
            "Epoch 10/10\n",
            "422/422 [==============================] - 2s 4ms/step - loss: 0.0061 - accuracy: 0.9978 - val_loss: 0.1979 - val_accuracy: 0.9788\n"
          ]
        },
        {
          "output_type": "execute_result",
          "data": {
            "text/plain": [
              "<keras.src.callbacks.History at 0x7e111a542350>"
            ]
          },
          "metadata": {},
          "execution_count": 15
        }
      ],
      "source": [
        "# 모델 학습\n",
        "model.fit(x_train, y_train, epochs=10, batch_size=128, validation_split=0.1)"
      ]
    },
    {
      "cell_type": "code",
      "execution_count": 16,
      "metadata": {
        "id": "h6OF74HLN3gF",
        "colab": {
          "base_uri": "https://localhost:8080/"
        },
        "outputId": "5002bfb9-9435-4e71-ce64-f7c306c6729f"
      },
      "outputs": [
        {
          "output_type": "stream",
          "name": "stdout",
          "text": [
            "1875/1875 [==============================] - 6s 3ms/step - loss: 0.0351 - accuracy: 0.9940\n"
          ]
        },
        {
          "output_type": "execute_result",
          "data": {
            "text/plain": [
              "[0.035100746899843216, 0.9939833283424377]"
            ]
          },
          "metadata": {},
          "execution_count": 16
        }
      ],
      "source": [
        "# 모델 평가\n",
        "model.evaluate(x_train, y_train)"
      ]
    },
    {
      "cell_type": "code",
      "execution_count": 21,
      "metadata": {
        "id": "pF0EwPHwAOmZ"
      },
      "outputs": [],
      "source": [
        "!pip install gradio -q"
      ]
    },
    {
      "cell_type": "code",
      "execution_count": null,
      "metadata": {
        "id": "h9O8sgC3AOiV"
      },
      "outputs": [],
      "source": [
        "import gradio as gr\n",
        "import numpy as np\n",
        "\n",
        "def greet(s_img):\n",
        "    # 흑백으로 변환\n",
        "    s_img = s_img.convert('L')\n",
        "\n",
        "    # 크기를 변경\n",
        "    img = s_img.resize((28, 28))\n",
        "\n",
        "    # 다시 numpy array로 변환\n",
        "    img = np.full((28, 28), 255.) - np.array(img)\n",
        "\n",
        "    return model.predict(img.reshape(1, 28, 28)), s_img\n",
        "\n",
        "demo = gr.Interface(\n",
        "    fn=greet,\n",
        "    inputs=gr.Image(source=\"canvas\", type=\"pil\"),\n",
        "    outputs=[\"text\", \"image\"]\n",
        ")\n",
        "demo.launch(debug=True)"
      ]
    },
    {
      "cell_type": "markdown",
      "metadata": {
        "id": "bkiCgBS3XzqP"
      },
      "source": [
        "## MNIST 손글씨 분류 - MaxPool"
      ]
    },
    {
      "cell_type": "code",
      "execution_count": 25,
      "metadata": {
        "id": "lCMXPDtxN44-"
      },
      "outputs": [],
      "source": [
        "import tensorflow as tf\n",
        "import pandas as pd"
      ]
    },
    {
      "cell_type": "code",
      "execution_count": 26,
      "metadata": {
        "id": "5dA-OA3kX77h",
        "colab": {
          "base_uri": "https://localhost:8080/"
        },
        "outputId": "2475345b-5adf-4ee2-a850-6248d256bc64"
      },
      "outputs": [
        {
          "output_type": "stream",
          "name": "stdout",
          "text": [
            "(60000, 28, 28, 1) (60000, 10)\n",
            "(10000, 28, 28, 1) (10000, 10)\n"
          ]
        }
      ],
      "source": [
        "# 데이터 준비\n",
        "(x_train, y_train), (x_test, y_test) = tf.keras.datasets.mnist.load_data()\n",
        "x_train = x_train.reshape(60000, 28, 28, 1)\n",
        "x_test = x_test.reshape(10000, 28, 28, 1)\n",
        "y_train = pd.get_dummies(y_train)\n",
        "y_test = pd.get_dummies(y_test)\n",
        "\n",
        "print(x_train.shape, y_train.shape)\n",
        "print(x_test.shape, y_test.shape)"
      ]
    },
    {
      "cell_type": "code",
      "execution_count": 27,
      "metadata": {
        "id": "00-OP8p9X9k6",
        "colab": {
          "base_uri": "https://localhost:8080/"
        },
        "outputId": "3540c07d-c788-4176-d193-736bf0c1fad9"
      },
      "outputs": [
        {
          "output_type": "stream",
          "name": "stdout",
          "text": [
            "Model: \"model_3\"\n",
            "_________________________________________________________________\n",
            " Layer (type)                Output Shape              Param #   \n",
            "=================================================================\n",
            " input_4 (InputLayer)        [(None, 28, 28, 1)]       0         \n",
            "                                                                 \n",
            " conv2d_2 (Conv2D)           (None, 24, 24, 3)         78        \n",
            "                                                                 \n",
            " max_pooling2d (MaxPooling2  (None, 12, 12, 3)         0         \n",
            " D)                                                              \n",
            "                                                                 \n",
            " conv2d_3 (Conv2D)           (None, 8, 8, 6)           456       \n",
            "                                                                 \n",
            " max_pooling2d_1 (MaxPoolin  (None, 4, 4, 6)           0         \n",
            " g2D)                                                            \n",
            "                                                                 \n",
            " flatten_2 (Flatten)         (None, 96)                0         \n",
            "                                                                 \n",
            " dense_6 (Dense)             (None, 84)                8148      \n",
            "                                                                 \n",
            " dense_7 (Dense)             (None, 10)                850       \n",
            "                                                                 \n",
            "=================================================================\n",
            "Total params: 9532 (37.23 KB)\n",
            "Trainable params: 9532 (37.23 KB)\n",
            "Non-trainable params: 0 (0.00 Byte)\n",
            "_________________________________________________________________\n"
          ]
        }
      ],
      "source": [
        "# 모델 생성\n",
        "X = tf.keras.Input(shape=[28, 28, 1])\n",
        "H = tf.keras.layers.Conv2D(3, 5, activation='swish')(X)\n",
        "H = tf.keras.layers.MaxPool2D()(H)\n",
        "H = tf.keras.layers.Conv2D(6, 5, activation='swish')(H)\n",
        "H = tf.keras.layers.MaxPool2D()(H)\n",
        "H = tf.keras.layers.Flatten()(H)\n",
        "H = tf.keras.layers.Dense(84, activation='swish')(H)\n",
        "Y = tf.keras.layers.Dense(10, activation='softmax')(H)\n",
        "\n",
        "model = tf.keras.Model(X, Y)\n",
        "model.compile(loss=\"categorical_crossentropy\", metrics=\"accuracy\")\n",
        "model.summary()"
      ]
    },
    {
      "cell_type": "code",
      "execution_count": 28,
      "metadata": {
        "id": "HXlmYTmOYemO",
        "colab": {
          "base_uri": "https://localhost:8080/"
        },
        "outputId": "738b14ff-cdee-49ea-fca7-2e64cfd8d877"
      },
      "outputs": [
        {
          "output_type": "stream",
          "name": "stdout",
          "text": [
            "Epoch 1/10\n",
            "422/422 [==============================] - 4s 5ms/step - loss: 1.1775 - accuracy: 0.7869 - val_loss: 0.1817 - val_accuracy: 0.9458\n",
            "Epoch 2/10\n",
            "422/422 [==============================] - 2s 4ms/step - loss: 0.1777 - accuracy: 0.9457 - val_loss: 0.1213 - val_accuracy: 0.9625\n",
            "Epoch 3/10\n",
            "422/422 [==============================] - 2s 4ms/step - loss: 0.1248 - accuracy: 0.9609 - val_loss: 0.1183 - val_accuracy: 0.9640\n",
            "Epoch 4/10\n",
            "422/422 [==============================] - 2s 4ms/step - loss: 0.0991 - accuracy: 0.9684 - val_loss: 0.0908 - val_accuracy: 0.9717\n",
            "Epoch 5/10\n",
            "422/422 [==============================] - 2s 5ms/step - loss: 0.0848 - accuracy: 0.9733 - val_loss: 0.0896 - val_accuracy: 0.9743\n",
            "Epoch 6/10\n",
            "422/422 [==============================] - 2s 5ms/step - loss: 0.0746 - accuracy: 0.9763 - val_loss: 0.0891 - val_accuracy: 0.9753\n",
            "Epoch 7/10\n",
            "422/422 [==============================] - 2s 5ms/step - loss: 0.0682 - accuracy: 0.9788 - val_loss: 0.0766 - val_accuracy: 0.9770\n",
            "Epoch 8/10\n",
            "422/422 [==============================] - 2s 4ms/step - loss: 0.0603 - accuracy: 0.9806 - val_loss: 0.0863 - val_accuracy: 0.9747\n",
            "Epoch 9/10\n",
            "422/422 [==============================] - 2s 4ms/step - loss: 0.0557 - accuracy: 0.9824 - val_loss: 0.0812 - val_accuracy: 0.9778\n",
            "Epoch 10/10\n",
            "422/422 [==============================] - 2s 4ms/step - loss: 0.0518 - accuracy: 0.9832 - val_loss: 0.0771 - val_accuracy: 0.9803\n"
          ]
        },
        {
          "output_type": "execute_result",
          "data": {
            "text/plain": [
              "<keras.src.callbacks.History at 0x7e1119fe3820>"
            ]
          },
          "metadata": {},
          "execution_count": 28
        }
      ],
      "source": [
        "model.fit(x_train, y_train, epochs=10, batch_size=128, validation_split=0.1)"
      ]
    },
    {
      "cell_type": "markdown",
      "metadata": {
        "id": "pNVV-74L19f7"
      },
      "source": [
        "### 클래스 속성 vs 메쏘드"
      ]
    },
    {
      "cell_type": "code",
      "execution_count": 29,
      "metadata": {
        "id": "zuB395Ukb8Mr",
        "colab": {
          "base_uri": "https://localhost:8080/",
          "height": 373
        },
        "outputId": "7baeb6b7-2d4f-4d71-8484-da76e31ff10d"
      },
      "outputs": [
        {
          "output_type": "stream",
          "name": "stdout",
          "text": [
            "멍멍\n",
            "야옹\n",
            "키키 개\n",
            "(2, 3)\n"
          ]
        },
        {
          "output_type": "execute_result",
          "data": {
            "text/plain": [
              "             0        1        2\n",
              "count  2.00000  2.00000  2.00000\n",
              "mean   2.50000  3.50000  4.50000\n",
              "std    2.12132  2.12132  2.12132\n",
              "min    1.00000  2.00000  3.00000\n",
              "25%    1.75000  2.75000  3.75000\n",
              "50%    2.50000  3.50000  4.50000\n",
              "75%    3.25000  4.25000  5.25000\n",
              "max    4.00000  5.00000  6.00000"
            ],
            "text/html": [
              "\n",
              "  <div id=\"df-ff74b31c-9250-4639-bf8f-0e49f4883496\" class=\"colab-df-container\">\n",
              "    <div>\n",
              "<style scoped>\n",
              "    .dataframe tbody tr th:only-of-type {\n",
              "        vertical-align: middle;\n",
              "    }\n",
              "\n",
              "    .dataframe tbody tr th {\n",
              "        vertical-align: top;\n",
              "    }\n",
              "\n",
              "    .dataframe thead th {\n",
              "        text-align: right;\n",
              "    }\n",
              "</style>\n",
              "<table border=\"1\" class=\"dataframe\">\n",
              "  <thead>\n",
              "    <tr style=\"text-align: right;\">\n",
              "      <th></th>\n",
              "      <th>0</th>\n",
              "      <th>1</th>\n",
              "      <th>2</th>\n",
              "    </tr>\n",
              "  </thead>\n",
              "  <tbody>\n",
              "    <tr>\n",
              "      <th>count</th>\n",
              "      <td>2.00000</td>\n",
              "      <td>2.00000</td>\n",
              "      <td>2.00000</td>\n",
              "    </tr>\n",
              "    <tr>\n",
              "      <th>mean</th>\n",
              "      <td>2.50000</td>\n",
              "      <td>3.50000</td>\n",
              "      <td>4.50000</td>\n",
              "    </tr>\n",
              "    <tr>\n",
              "      <th>std</th>\n",
              "      <td>2.12132</td>\n",
              "      <td>2.12132</td>\n",
              "      <td>2.12132</td>\n",
              "    </tr>\n",
              "    <tr>\n",
              "      <th>min</th>\n",
              "      <td>1.00000</td>\n",
              "      <td>2.00000</td>\n",
              "      <td>3.00000</td>\n",
              "    </tr>\n",
              "    <tr>\n",
              "      <th>25%</th>\n",
              "      <td>1.75000</td>\n",
              "      <td>2.75000</td>\n",
              "      <td>3.75000</td>\n",
              "    </tr>\n",
              "    <tr>\n",
              "      <th>50%</th>\n",
              "      <td>2.50000</td>\n",
              "      <td>3.50000</td>\n",
              "      <td>4.50000</td>\n",
              "    </tr>\n",
              "    <tr>\n",
              "      <th>75%</th>\n",
              "      <td>3.25000</td>\n",
              "      <td>4.25000</td>\n",
              "      <td>5.25000</td>\n",
              "    </tr>\n",
              "    <tr>\n",
              "      <th>max</th>\n",
              "      <td>4.00000</td>\n",
              "      <td>5.00000</td>\n",
              "      <td>6.00000</td>\n",
              "    </tr>\n",
              "  </tbody>\n",
              "</table>\n",
              "</div>\n",
              "    <div class=\"colab-df-buttons\">\n",
              "\n",
              "  <div class=\"colab-df-container\">\n",
              "    <button class=\"colab-df-convert\" onclick=\"convertToInteractive('df-ff74b31c-9250-4639-bf8f-0e49f4883496')\"\n",
              "            title=\"Convert this dataframe to an interactive table.\"\n",
              "            style=\"display:none;\">\n",
              "\n",
              "  <svg xmlns=\"http://www.w3.org/2000/svg\" height=\"24px\" viewBox=\"0 -960 960 960\">\n",
              "    <path d=\"M120-120v-720h720v720H120Zm60-500h600v-160H180v160Zm220 220h160v-160H400v160Zm0 220h160v-160H400v160ZM180-400h160v-160H180v160Zm440 0h160v-160H620v160ZM180-180h160v-160H180v160Zm440 0h160v-160H620v160Z\"/>\n",
              "  </svg>\n",
              "    </button>\n",
              "\n",
              "  <style>\n",
              "    .colab-df-container {\n",
              "      display:flex;\n",
              "      gap: 12px;\n",
              "    }\n",
              "\n",
              "    .colab-df-convert {\n",
              "      background-color: #E8F0FE;\n",
              "      border: none;\n",
              "      border-radius: 50%;\n",
              "      cursor: pointer;\n",
              "      display: none;\n",
              "      fill: #1967D2;\n",
              "      height: 32px;\n",
              "      padding: 0 0 0 0;\n",
              "      width: 32px;\n",
              "    }\n",
              "\n",
              "    .colab-df-convert:hover {\n",
              "      background-color: #E2EBFA;\n",
              "      box-shadow: 0px 1px 2px rgba(60, 64, 67, 0.3), 0px 1px 3px 1px rgba(60, 64, 67, 0.15);\n",
              "      fill: #174EA6;\n",
              "    }\n",
              "\n",
              "    .colab-df-buttons div {\n",
              "      margin-bottom: 4px;\n",
              "    }\n",
              "\n",
              "    [theme=dark] .colab-df-convert {\n",
              "      background-color: #3B4455;\n",
              "      fill: #D2E3FC;\n",
              "    }\n",
              "\n",
              "    [theme=dark] .colab-df-convert:hover {\n",
              "      background-color: #434B5C;\n",
              "      box-shadow: 0px 1px 3px 1px rgba(0, 0, 0, 0.15);\n",
              "      filter: drop-shadow(0px 1px 2px rgba(0, 0, 0, 0.3));\n",
              "      fill: #FFFFFF;\n",
              "    }\n",
              "  </style>\n",
              "\n",
              "    <script>\n",
              "      const buttonEl =\n",
              "        document.querySelector('#df-ff74b31c-9250-4639-bf8f-0e49f4883496 button.colab-df-convert');\n",
              "      buttonEl.style.display =\n",
              "        google.colab.kernel.accessAllowed ? 'block' : 'none';\n",
              "\n",
              "      async function convertToInteractive(key) {\n",
              "        const element = document.querySelector('#df-ff74b31c-9250-4639-bf8f-0e49f4883496');\n",
              "        const dataTable =\n",
              "          await google.colab.kernel.invokeFunction('convertToInteractive',\n",
              "                                                    [key], {});\n",
              "        if (!dataTable) return;\n",
              "\n",
              "        const docLinkHtml = 'Like what you see? Visit the ' +\n",
              "          '<a target=\"_blank\" href=https://colab.research.google.com/notebooks/data_table.ipynb>data table notebook</a>'\n",
              "          + ' to learn more about interactive tables.';\n",
              "        element.innerHTML = '';\n",
              "        dataTable['output_type'] = 'display_data';\n",
              "        await google.colab.output.renderOutput(dataTable, element);\n",
              "        const docLink = document.createElement('div');\n",
              "        docLink.innerHTML = docLinkHtml;\n",
              "        element.appendChild(docLink);\n",
              "      }\n",
              "    </script>\n",
              "  </div>\n",
              "\n",
              "\n",
              "<div id=\"df-4b8b181b-f328-4273-9c88-44d1761abca7\">\n",
              "  <button class=\"colab-df-quickchart\" onclick=\"quickchart('df-4b8b181b-f328-4273-9c88-44d1761abca7')\"\n",
              "            title=\"Suggest charts\"\n",
              "            style=\"display:none;\">\n",
              "\n",
              "<svg xmlns=\"http://www.w3.org/2000/svg\" height=\"24px\"viewBox=\"0 0 24 24\"\n",
              "     width=\"24px\">\n",
              "    <g>\n",
              "        <path d=\"M19 3H5c-1.1 0-2 .9-2 2v14c0 1.1.9 2 2 2h14c1.1 0 2-.9 2-2V5c0-1.1-.9-2-2-2zM9 17H7v-7h2v7zm4 0h-2V7h2v10zm4 0h-2v-4h2v4z\"/>\n",
              "    </g>\n",
              "</svg>\n",
              "  </button>\n",
              "\n",
              "<style>\n",
              "  .colab-df-quickchart {\n",
              "      --bg-color: #E8F0FE;\n",
              "      --fill-color: #1967D2;\n",
              "      --hover-bg-color: #E2EBFA;\n",
              "      --hover-fill-color: #174EA6;\n",
              "      --disabled-fill-color: #AAA;\n",
              "      --disabled-bg-color: #DDD;\n",
              "  }\n",
              "\n",
              "  [theme=dark] .colab-df-quickchart {\n",
              "      --bg-color: #3B4455;\n",
              "      --fill-color: #D2E3FC;\n",
              "      --hover-bg-color: #434B5C;\n",
              "      --hover-fill-color: #FFFFFF;\n",
              "      --disabled-bg-color: #3B4455;\n",
              "      --disabled-fill-color: #666;\n",
              "  }\n",
              "\n",
              "  .colab-df-quickchart {\n",
              "    background-color: var(--bg-color);\n",
              "    border: none;\n",
              "    border-radius: 50%;\n",
              "    cursor: pointer;\n",
              "    display: none;\n",
              "    fill: var(--fill-color);\n",
              "    height: 32px;\n",
              "    padding: 0;\n",
              "    width: 32px;\n",
              "  }\n",
              "\n",
              "  .colab-df-quickchart:hover {\n",
              "    background-color: var(--hover-bg-color);\n",
              "    box-shadow: 0 1px 2px rgba(60, 64, 67, 0.3), 0 1px 3px 1px rgba(60, 64, 67, 0.15);\n",
              "    fill: var(--button-hover-fill-color);\n",
              "  }\n",
              "\n",
              "  .colab-df-quickchart-complete:disabled,\n",
              "  .colab-df-quickchart-complete:disabled:hover {\n",
              "    background-color: var(--disabled-bg-color);\n",
              "    fill: var(--disabled-fill-color);\n",
              "    box-shadow: none;\n",
              "  }\n",
              "\n",
              "  .colab-df-spinner {\n",
              "    border: 2px solid var(--fill-color);\n",
              "    border-color: transparent;\n",
              "    border-bottom-color: var(--fill-color);\n",
              "    animation:\n",
              "      spin 1s steps(1) infinite;\n",
              "  }\n",
              "\n",
              "  @keyframes spin {\n",
              "    0% {\n",
              "      border-color: transparent;\n",
              "      border-bottom-color: var(--fill-color);\n",
              "      border-left-color: var(--fill-color);\n",
              "    }\n",
              "    20% {\n",
              "      border-color: transparent;\n",
              "      border-left-color: var(--fill-color);\n",
              "      border-top-color: var(--fill-color);\n",
              "    }\n",
              "    30% {\n",
              "      border-color: transparent;\n",
              "      border-left-color: var(--fill-color);\n",
              "      border-top-color: var(--fill-color);\n",
              "      border-right-color: var(--fill-color);\n",
              "    }\n",
              "    40% {\n",
              "      border-color: transparent;\n",
              "      border-right-color: var(--fill-color);\n",
              "      border-top-color: var(--fill-color);\n",
              "    }\n",
              "    60% {\n",
              "      border-color: transparent;\n",
              "      border-right-color: var(--fill-color);\n",
              "    }\n",
              "    80% {\n",
              "      border-color: transparent;\n",
              "      border-right-color: var(--fill-color);\n",
              "      border-bottom-color: var(--fill-color);\n",
              "    }\n",
              "    90% {\n",
              "      border-color: transparent;\n",
              "      border-bottom-color: var(--fill-color);\n",
              "    }\n",
              "  }\n",
              "</style>\n",
              "\n",
              "  <script>\n",
              "    async function quickchart(key) {\n",
              "      const quickchartButtonEl =\n",
              "        document.querySelector('#' + key + ' button');\n",
              "      quickchartButtonEl.disabled = true;  // To prevent multiple clicks.\n",
              "      quickchartButtonEl.classList.add('colab-df-spinner');\n",
              "      try {\n",
              "        const charts = await google.colab.kernel.invokeFunction(\n",
              "            'suggestCharts', [key], {});\n",
              "      } catch (error) {\n",
              "        console.error('Error during call to suggestCharts:', error);\n",
              "      }\n",
              "      quickchartButtonEl.classList.remove('colab-df-spinner');\n",
              "      quickchartButtonEl.classList.add('colab-df-quickchart-complete');\n",
              "    }\n",
              "    (() => {\n",
              "      let quickchartButtonEl =\n",
              "        document.querySelector('#df-4b8b181b-f328-4273-9c88-44d1761abca7 button');\n",
              "      quickchartButtonEl.style.display =\n",
              "        google.colab.kernel.accessAllowed ? 'block' : 'none';\n",
              "    })();\n",
              "  </script>\n",
              "</div>\n",
              "\n",
              "    </div>\n",
              "  </div>\n"
            ],
            "application/vnd.google.colaboratory.intrinsic+json": {
              "type": "dataframe",
              "summary": "{\n  \"name\": \"df\",\n  \"rows\": 8,\n  \"fields\": [\n    {\n      \"column\": 0,\n      \"properties\": {\n        \"dtype\": \"number\",\n        \"std\": 0.9197739271823825,\n        \"min\": 1.0,\n        \"max\": 4.0,\n        \"num_unique_values\": 7,\n        \"samples\": [\n          2.0,\n          2.5,\n          3.25\n        ],\n        \"semantic_type\": \"\",\n        \"description\": \"\"\n      }\n    },\n    {\n      \"column\": 1,\n      \"properties\": {\n        \"dtype\": \"number\",\n        \"std\": 1.1173890500711312,\n        \"min\": 2.0,\n        \"max\": 5.0,\n        \"num_unique_values\": 6,\n        \"samples\": [\n          2.0,\n          3.5,\n          5.0\n        ],\n        \"semantic_type\": \"\",\n        \"description\": \"\"\n      }\n    },\n    {\n      \"column\": 2,\n      \"properties\": {\n        \"dtype\": \"number\",\n        \"std\": 1.442117862688295,\n        \"min\": 2.0,\n        \"max\": 6.0,\n        \"num_unique_values\": 7,\n        \"samples\": [\n          2.0,\n          4.5,\n          5.25\n        ],\n        \"semantic_type\": \"\",\n        \"description\": \"\"\n      }\n    }\n  ]\n}"
            }
          },
          "metadata": {},
          "execution_count": 29
        }
      ],
      "source": [
        "class Animal:\n",
        "    def __init__(self, name, type):\n",
        "        self.name = name\n",
        "        self.type = type\n",
        "\n",
        "    def cry(self):\n",
        "        if self.type == \"고양이\":\n",
        "            return \"야옹\"\n",
        "        elif self.type == \"개\":\n",
        "            return \"멍멍\"\n",
        "\n",
        "a = Animal(\"키키\", \"개\")\n",
        "b = Animal(\"지지\", \"고양이\")\n",
        "\n",
        "print(a.cry())\n",
        "print(b.cry())\n",
        "print(a.name, a.type)\n",
        "\n",
        "import pandas as pd\n",
        "df = pd.DataFrame([[1, 2, 3], [4, 5, 6]])\n",
        "print(df.shape)\n",
        "df.describe()"
      ]
    },
    {
      "cell_type": "markdown",
      "metadata": {
        "id": "PhenEMxn8iNC"
      },
      "source": [
        "# CNN Models - LeNet5"
      ]
    },
    {
      "cell_type": "markdown",
      "metadata": {
        "id": "-MHkbH7ucZmg"
      },
      "source": [
        "## fashion mnist - 실습"
      ]
    },
    {
      "cell_type": "code",
      "execution_count": 30,
      "metadata": {
        "id": "ouGq3_nK2DKU"
      },
      "outputs": [],
      "source": [
        "import tensorflow as tf"
      ]
    },
    {
      "cell_type": "code",
      "execution_count": 31,
      "metadata": {
        "id": "hiGlC-Cybkhf",
        "colab": {
          "base_uri": "https://localhost:8080/"
        },
        "outputId": "a3c0ba01-cc3b-41cc-ed64-5f7926802f38"
      },
      "outputs": [
        {
          "output_type": "stream",
          "name": "stdout",
          "text": [
            "Downloading data from https://storage.googleapis.com/tensorflow/tf-keras-datasets/train-labels-idx1-ubyte.gz\n",
            "29515/29515 [==============================] - 0s 0us/step\n",
            "Downloading data from https://storage.googleapis.com/tensorflow/tf-keras-datasets/train-images-idx3-ubyte.gz\n",
            "26421880/26421880 [==============================] - 0s 0us/step\n",
            "Downloading data from https://storage.googleapis.com/tensorflow/tf-keras-datasets/t10k-labels-idx1-ubyte.gz\n",
            "5148/5148 [==============================] - 0s 0us/step\n",
            "Downloading data from https://storage.googleapis.com/tensorflow/tf-keras-datasets/t10k-images-idx3-ubyte.gz\n",
            "4422102/4422102 [==============================] - 0s 0us/step\n",
            "(60000, 28, 28) (60000,)\n",
            "(10000, 28, 28) (10000,)\n"
          ]
        }
      ],
      "source": [
        "# 데이터 준비\n",
        "(x_train, y_train), (x_test, y_test) = tf.keras.datasets.fashion_mnist.load_data()\n",
        "print(x_train.shape, y_train.shape)\n",
        "print(x_test.shape, y_test.shape)"
      ]
    },
    {
      "cell_type": "code",
      "execution_count": 32,
      "metadata": {
        "id": "ZaRvMbiGbsmG",
        "colab": {
          "base_uri": "https://localhost:8080/",
          "height": 448
        },
        "outputId": "9082d872-63e7-47ff-df83-4da28938e5be"
      },
      "outputs": [
        {
          "output_type": "stream",
          "name": "stdout",
          "text": [
            "0\n"
          ]
        },
        {
          "output_type": "display_data",
          "data": {
            "text/plain": [
              "<Figure size 640x480 with 1 Axes>"
            ],
            "image/png": "[encoded data removed]"
          },
          "metadata": {}
        }
      ],
      "source": [
        "import matplotlib.pyplot as plt\n",
        "num = 1\n",
        "print(y_train[num])\n",
        "plt.imshow(x_train[num], cmap='gray')\n",
        "plt.show()"
      ]
    },
    {
      "cell_type": "code",
      "execution_count": 33,
      "metadata": {
        "id": "pgQ2VWFd1Dqi",
        "colab": {
          "base_uri": "https://localhost:8080/"
        },
        "outputId": "e29bd8ca-1cf5-4377-bdda-01b83d27ba8f"
      },
      "outputs": [
        {
          "output_type": "stream",
          "name": "stdout",
          "text": [
            "(60000, 28, 28, 1) (60000, 10)\n",
            "(10000, 28, 28, 1) (10000, 10)\n"
          ]
        },
        {
          "output_type": "execute_result",
          "data": {
            "text/plain": [
              "array([[0., 0., 0., 0., 0., 0., 0., 0., 0., 1.],\n",
              "       [1., 0., 0., 0., 0., 0., 0., 0., 0., 0.],\n",
              "       [1., 0., 0., 0., 0., 0., 0., 0., 0., 0.],\n",
              "       [0., 0., 0., 1., 0., 0., 0., 0., 0., 0.],\n",
              "       [1., 0., 0., 0., 0., 0., 0., 0., 0., 0.],\n",
              "       [0., 0., 1., 0., 0., 0., 0., 0., 0., 0.],\n",
              "       [0., 0., 0., 0., 0., 0., 0., 1., 0., 0.],\n",
              "       [0., 0., 1., 0., 0., 0., 0., 0., 0., 0.],\n",
              "       [0., 0., 0., 0., 0., 1., 0., 0., 0., 0.],\n",
              "       [0., 0., 0., 0., 0., 1., 0., 0., 0., 0.]], dtype=float32)"
            ]
          },
          "metadata": {},
          "execution_count": 33
        }
      ],
      "source": [
        "# 데이터 준비\n",
        "(x_train, y_train), (x_test, y_test) = tf.keras.datasets.fashion_mnist.load_data()\n",
        "\n",
        "x_train = x_train.reshape(60000, 28, 28, 1)\n",
        "x_test = x_test.reshape(10000, 28, 28, 1)\n",
        "\n",
        "# 텐서플로우의 원핫인코딩 함수\n",
        "y_train = tf.keras.utils.to_categorical(y_train)\n",
        "y_test = tf.keras.utils.to_categorical(y_test)\n",
        "\n",
        "print(x_train.shape, y_train.shape)\n",
        "print(x_test.shape, y_test.shape)\n",
        "\n",
        "y_train[:10]"
      ]
    },
    {
      "cell_type": "code",
      "execution_count": 34,
      "metadata": {
        "id": "F_ZxYZD52LZe",
        "colab": {
          "base_uri": "https://localhost:8080/"
        },
        "outputId": "7d003789-d3f4-4a9e-96b3-6b4fc1fee08b"
      },
      "outputs": [
        {
          "output_type": "stream",
          "name": "stdout",
          "text": [
            "Model: \"model_4\"\n",
            "_________________________________________________________________\n",
            " Layer (type)                Output Shape              Param #   \n",
            "=================================================================\n",
            " input_5 (InputLayer)        [(None, 28, 28, 1)]       0         \n",
            "                                                                 \n",
            " conv2d_4 (Conv2D)           (None, 24, 24, 3)         78        \n",
            "                                                                 \n",
            " max_pooling2d_2 (MaxPoolin  (None, 12, 12, 3)         0         \n",
            " g2D)                                                            \n",
            "                                                                 \n",
            " conv2d_5 (Conv2D)           (None, 8, 8, 6)           456       \n",
            "                                                                 \n",
            " max_pooling2d_3 (MaxPoolin  (None, 4, 4, 6)           0         \n",
            " g2D)                                                            \n",
            "                                                                 \n",
            " flatten_3 (Flatten)         (None, 96)                0         \n",
            "                                                                 \n",
            " dense_8 (Dense)             (None, 84)                8148      \n",
            "                                                                 \n",
            " dense_9 (Dense)             (None, 10)                850       \n",
            "                                                                 \n",
            "=================================================================\n",
            "Total params: 9532 (37.23 KB)\n",
            "Trainable params: 9532 (37.23 KB)\n",
            "Non-trainable params: 0 (0.00 Byte)\n",
            "_________________________________________________________________\n"
          ]
        }
      ],
      "source": [
        "# 모델 생성\n",
        "X = tf.keras.Input(shape=[28, 28, 1])\n",
        "H = tf.keras.layers.Conv2D(3, 5, activation=\"swish\")(X)\n",
        "H = tf.keras.layers.MaxPool2D()(H)\n",
        "H = tf.keras.layers.Conv2D(6, 5, activation=\"swish\")(H)\n",
        "H = tf.keras.layers.MaxPool2D()(H)\n",
        "H = tf.keras.layers.Flatten()(H)\n",
        "H = tf.keras.layers.Dense(84, activation=\"swish\")(H)\n",
        "Y = tf.keras.layers.Dense(10, activation=\"softmax\")(H)\n",
        "model = tf.keras.Model(X, Y)\n",
        "model.compile(loss=\"categorical_crossentropy\", metrics=\"accuracy\")\n",
        "model.summary(0)"
      ]
    },
    {
      "cell_type": "code",
      "execution_count": 35,
      "metadata": {
        "id": "-D4H_Ola3JCC",
        "colab": {
          "base_uri": "https://localhost:8080/"
        },
        "outputId": "9ecac852-fd5c-4f0b-fd79-ac229152c41e"
      },
      "outputs": [
        {
          "output_type": "stream",
          "name": "stdout",
          "text": [
            "Epoch 1/20\n",
            "422/422 [==============================] - 3s 6ms/step - loss: 0.9118 - accuracy: 0.7242 - val_loss: 0.5375 - val_accuracy: 0.7967\n",
            "Epoch 2/20\n",
            "422/422 [==============================] - 2s 4ms/step - loss: 0.5058 - accuracy: 0.8165 - val_loss: 0.4710 - val_accuracy: 0.8222\n",
            "Epoch 3/20\n",
            "422/422 [==============================] - 2s 4ms/step - loss: 0.4418 - accuracy: 0.8378 - val_loss: 0.4490 - val_accuracy: 0.8332\n",
            "Epoch 4/20\n",
            "422/422 [==============================] - 2s 4ms/step - loss: 0.4044 - accuracy: 0.8516 - val_loss: 0.4021 - val_accuracy: 0.8500\n",
            "Epoch 5/20\n",
            "422/422 [==============================] - 2s 4ms/step - loss: 0.3807 - accuracy: 0.8599 - val_loss: 0.3879 - val_accuracy: 0.8578\n",
            "Epoch 6/20\n",
            "422/422 [==============================] - 2s 4ms/step - loss: 0.3623 - accuracy: 0.8656 - val_loss: 0.3898 - val_accuracy: 0.8530\n",
            "Epoch 7/20\n",
            "422/422 [==============================] - 2s 5ms/step - loss: 0.3502 - accuracy: 0.8704 - val_loss: 0.3876 - val_accuracy: 0.8558\n",
            "Epoch 8/20\n",
            "422/422 [==============================] - 2s 4ms/step - loss: 0.3406 - accuracy: 0.8724 - val_loss: 0.3879 - val_accuracy: 0.8565\n",
            "Epoch 9/20\n",
            "422/422 [==============================] - 2s 4ms/step - loss: 0.3331 - accuracy: 0.8751 - val_loss: 0.3828 - val_accuracy: 0.8627\n",
            "Epoch 10/20\n",
            "422/422 [==============================] - 2s 4ms/step - loss: 0.3276 - accuracy: 0.8782 - val_loss: 0.3948 - val_accuracy: 0.8577\n",
            "Epoch 11/20\n",
            "422/422 [==============================] - 2s 4ms/step - loss: 0.3198 - accuracy: 0.8812 - val_loss: 0.3839 - val_accuracy: 0.8618\n",
            "Epoch 12/20\n",
            "422/422 [==============================] - 2s 4ms/step - loss: 0.3180 - accuracy: 0.8808 - val_loss: 0.3685 - val_accuracy: 0.8615\n",
            "Epoch 13/20\n",
            "422/422 [==============================] - 2s 4ms/step - loss: 0.3102 - accuracy: 0.8829 - val_loss: 0.4006 - val_accuracy: 0.8542\n",
            "Epoch 14/20\n",
            "422/422 [==============================] - 2s 5ms/step - loss: 0.3070 - accuracy: 0.8856 - val_loss: 0.3802 - val_accuracy: 0.8532\n",
            "Epoch 15/20\n",
            "422/422 [==============================] - 2s 4ms/step - loss: 0.3038 - accuracy: 0.8869 - val_loss: 0.3898 - val_accuracy: 0.8557\n",
            "Epoch 16/20\n",
            "422/422 [==============================] - 2s 4ms/step - loss: 0.2987 - accuracy: 0.8887 - val_loss: 0.3703 - val_accuracy: 0.8635\n",
            "Epoch 17/20\n",
            "422/422 [==============================] - 2s 4ms/step - loss: 0.2955 - accuracy: 0.8877 - val_loss: 0.3660 - val_accuracy: 0.8633\n",
            "Epoch 18/20\n",
            "422/422 [==============================] - 2s 4ms/step - loss: 0.2945 - accuracy: 0.8906 - val_loss: 0.3852 - val_accuracy: 0.8533\n",
            "Epoch 19/20\n",
            "422/422 [==============================] - 2s 4ms/step - loss: 0.2898 - accuracy: 0.8901 - val_loss: 0.3510 - val_accuracy: 0.8683\n",
            "Epoch 20/20\n",
            "422/422 [==============================] - 3s 6ms/step - loss: 0.2866 - accuracy: 0.8920 - val_loss: 0.3749 - val_accuracy: 0.8640\n"
          ]
        },
        {
          "output_type": "execute_result",
          "data": {
            "text/plain": [
              "<keras.src.callbacks.History at 0x7e11151db400>"
            ]
          },
          "metadata": {},
          "execution_count": 35
        }
      ],
      "source": [
        "# 모델 학습\n",
        "model.fit(x_train, y_train, epochs=20, batch_size=128, validation_split=0.1)"
      ]
    },
    {
      "cell_type": "code",
      "execution_count": 36,
      "metadata": {
        "id": "OyNCmytR3J1o"
      },
      "outputs": [],
      "source": [
        "# 모델 평가\n"
      ]
    },
    {
      "cell_type": "markdown",
      "metadata": {
        "id": "lCrE0h778J5a"
      },
      "source": [
        "## LeNet-5 + fashion mnist"
      ]
    },
    {
      "cell_type": "code",
      "execution_count": 37,
      "metadata": {
        "id": "3-7mr_qxCmFO",
        "colab": {
          "base_uri": "https://localhost:8080/"
        },
        "outputId": "1ae78a73-7c47-4560-87c0-98272163989c"
      },
      "outputs": [
        {
          "output_type": "stream",
          "name": "stdout",
          "text": [
            "(60000, 28, 28, 1) (60000, 10)\n",
            "(10000, 28, 28, 1) (10000, 10)\n"
          ]
        },
        {
          "output_type": "execute_result",
          "data": {
            "text/plain": [
              "array([[0., 0., 0., 0., 0., 0., 0., 0., 0., 1.],\n",
              "       [1., 0., 0., 0., 0., 0., 0., 0., 0., 0.],\n",
              "       [1., 0., 0., 0., 0., 0., 0., 0., 0., 0.],\n",
              "       [0., 0., 0., 1., 0., 0., 0., 0., 0., 0.],\n",
              "       [1., 0., 0., 0., 0., 0., 0., 0., 0., 0.],\n",
              "       [0., 0., 1., 0., 0., 0., 0., 0., 0., 0.],\n",
              "       [0., 0., 0., 0., 0., 0., 0., 1., 0., 0.],\n",
              "       [0., 0., 1., 0., 0., 0., 0., 0., 0., 0.],\n",
              "       [0., 0., 0., 0., 0., 1., 0., 0., 0., 0.],\n",
              "       [0., 0., 0., 0., 0., 1., 0., 0., 0., 0.]], dtype=float32)"
            ]
          },
          "metadata": {},
          "execution_count": 37
        }
      ],
      "source": [
        "# 데이터 준비\n",
        "(x_train, y_train), (x_test, y_test) = tf.keras.datasets.fashion_mnist.load_data()\n",
        "\n",
        "x_train = x_train.reshape(60000, 28, 28, 1)\n",
        "x_test = x_test.reshape(10000, 28, 28, 1)\n",
        "\n",
        "# 텐서플로우의 원핫인코딩 함수\n",
        "y_train = tf.keras.utils.to_categorical(y_train)\n",
        "y_test = tf.keras.utils.to_categorical(y_test)\n",
        "\n",
        "print(x_train.shape, y_train.shape)\n",
        "print(x_test.shape, y_test.shape)\n",
        "\n",
        "y_train[:10]"
      ]
    },
    {
      "cell_type": "code",
      "execution_count": 38,
      "metadata": {
        "id": "Kn_MHtXp3LCr",
        "colab": {
          "base_uri": "https://localhost:8080/"
        },
        "outputId": "7727bae1-5951-47f9-ab5e-0e6909763fa1"
      },
      "outputs": [
        {
          "output_type": "stream",
          "name": "stdout",
          "text": [
            "Model: \"model_5\"\n",
            "_________________________________________________________________\n",
            " Layer (type)                Output Shape              Param #   \n",
            "=================================================================\n",
            " input_6 (InputLayer)        [(None, 28, 28, 1)]       0         \n",
            "                                                                 \n",
            " conv2d_6 (Conv2D)           (None, 28, 28, 6)         156       \n",
            "                                                                 \n",
            " batch_normalization (Batch  (None, 28, 28, 6)         24        \n",
            " Normalization)                                                  \n",
            "                                                                 \n",
            " activation (Activation)     (None, 28, 28, 6)         0         \n",
            "                                                                 \n",
            " max_pooling2d_4 (MaxPoolin  (None, 14, 14, 6)         0         \n",
            " g2D)                                                            \n",
            "                                                                 \n",
            " conv2d_7 (Conv2D)           (None, 10, 10, 16)        2416      \n",
            "                                                                 \n",
            " batch_normalization_1 (Bat  (None, 10, 10, 16)        64        \n",
            " chNormalization)                                                \n",
            "                                                                 \n",
            " activation_1 (Activation)   (None, 10, 10, 16)        0         \n",
            "                                                                 \n",
            " max_pooling2d_5 (MaxPoolin  (None, 5, 5, 16)          0         \n",
            " g2D)                                                            \n",
            "                                                                 \n",
            " flatten_4 (Flatten)         (None, 400)               0         \n",
            "                                                                 \n",
            " dense_10 (Dense)            (None, 120)               48120     \n",
            "                                                                 \n",
            " batch_normalization_2 (Bat  (None, 120)               480       \n",
            " chNormalization)                                                \n",
            "                                                                 \n",
            " activation_2 (Activation)   (None, 120)               0         \n",
            "                                                                 \n",
            " dense_11 (Dense)            (None, 84)                10164     \n",
            "                                                                 \n",
            " batch_normalization_3 (Bat  (None, 84)                336       \n",
            " chNormalization)                                                \n",
            "                                                                 \n",
            " activation_3 (Activation)   (None, 84)                0         \n",
            "                                                                 \n",
            " dense_12 (Dense)            (None, 10)                850       \n",
            "                                                                 \n",
            "=================================================================\n",
            "Total params: 62610 (244.57 KB)\n",
            "Trainable params: 62158 (242.80 KB)\n",
            "Non-trainable params: 452 (1.77 KB)\n",
            "_________________________________________________________________\n"
          ]
        }
      ],
      "source": [
        "# 모델 생성\n",
        "X = tf.keras.Input(shape=[28, 28, 1])\n",
        "\n",
        "H = tf.keras.layers.Conv2D(6, 5, padding=\"same\")(X)\n",
        "H = tf.keras.layers.BatchNormalization()(H)\n",
        "H = tf.keras.layers.Activation(\"swish\")(H)\n",
        "H = tf.keras.layers.MaxPool2D()(H)\n",
        "\n",
        "H = tf.keras.layers.Conv2D(16, 5)(H)\n",
        "H = tf.keras.layers.BatchNormalization()(H)\n",
        "H = tf.keras.layers.Activation(\"swish\")(H)\n",
        "H = tf.keras.layers.MaxPool2D()(H)\n",
        "\n",
        "H = tf.keras.layers.Flatten()(H)\n",
        "\n",
        "H = tf.keras.layers.Dense(120)(H)\n",
        "H = tf.keras.layers.BatchNormalization()(H)\n",
        "H = tf.keras.layers.Activation(\"swish\")(H)\n",
        "\n",
        "H = tf.keras.layers.Dense(84)(H)\n",
        "H = tf.keras.layers.BatchNormalization()(H)\n",
        "H = tf.keras.layers.Activation(\"swish\")(H)\n",
        "\n",
        "Y = tf.keras.layers.Dense(10, activation=\"softmax\")(H)\n",
        "\n",
        "model = tf.keras.Model(X, Y)\n",
        "model.compile(loss=\"categorical_crossentropy\", metrics=\"accuracy\")\n",
        "model.summary()"
      ]
    },
    {
      "cell_type": "code",
      "execution_count": 39,
      "metadata": {
        "id": "XKQu5Yg28pVH",
        "colab": {
          "base_uri": "https://localhost:8080/"
        },
        "outputId": "68ebba3f-b4c6-4f51-d07c-8806406dd556"
      },
      "outputs": [
        {
          "output_type": "stream",
          "name": "stdout",
          "text": [
            "Epoch 1/20\n",
            "422/422 [==============================] - 9s 8ms/step - loss: 0.4362 - accuracy: 0.8454 - val_loss: 0.3397 - val_accuracy: 0.8730\n",
            "Epoch 2/20\n",
            "422/422 [==============================] - 3s 8ms/step - loss: 0.3050 - accuracy: 0.8882 - val_loss: 0.3202 - val_accuracy: 0.8850\n",
            "Epoch 3/20\n",
            "422/422 [==============================] - 3s 6ms/step - loss: 0.2706 - accuracy: 0.8986 - val_loss: 0.3166 - val_accuracy: 0.8858\n",
            "Epoch 4/20\n",
            "422/422 [==============================] - 3s 6ms/step - loss: 0.2445 - accuracy: 0.9081 - val_loss: 0.3274 - val_accuracy: 0.8782\n",
            "Epoch 5/20\n",
            "422/422 [==============================] - 3s 6ms/step - loss: 0.2237 - accuracy: 0.9166 - val_loss: 0.3111 - val_accuracy: 0.8853\n",
            "Epoch 6/20\n",
            "422/422 [==============================] - 3s 7ms/step - loss: 0.2081 - accuracy: 0.9220 - val_loss: 0.3544 - val_accuracy: 0.8763\n",
            "Epoch 7/20\n",
            "422/422 [==============================] - 3s 7ms/step - loss: 0.1921 - accuracy: 0.9279 - val_loss: 0.3217 - val_accuracy: 0.8858\n",
            "Epoch 8/20\n",
            "422/422 [==============================] - 3s 6ms/step - loss: 0.1802 - accuracy: 0.9317 - val_loss: 0.2885 - val_accuracy: 0.9023\n",
            "Epoch 9/20\n",
            "422/422 [==============================] - 3s 6ms/step - loss: 0.1678 - accuracy: 0.9367 - val_loss: 0.3342 - val_accuracy: 0.8922\n",
            "Epoch 10/20\n",
            "422/422 [==============================] - 4s 8ms/step - loss: 0.1583 - accuracy: 0.9411 - val_loss: 0.3072 - val_accuracy: 0.9048\n",
            "Epoch 11/20\n",
            "422/422 [==============================] - 5s 13ms/step - loss: 0.1481 - accuracy: 0.9445 - val_loss: 0.2950 - val_accuracy: 0.9035\n",
            "Epoch 12/20\n",
            "422/422 [==============================] - 3s 8ms/step - loss: 0.1385 - accuracy: 0.9490 - val_loss: 0.3084 - val_accuracy: 0.9052\n",
            "Epoch 13/20\n",
            "422/422 [==============================] - 3s 7ms/step - loss: 0.1288 - accuracy: 0.9525 - val_loss: 0.3289 - val_accuracy: 0.9000\n",
            "Epoch 14/20\n",
            "422/422 [==============================] - 3s 7ms/step - loss: 0.1214 - accuracy: 0.9547 - val_loss: 0.3373 - val_accuracy: 0.8998\n",
            "Epoch 15/20\n",
            "422/422 [==============================] - 3s 6ms/step - loss: 0.1117 - accuracy: 0.9583 - val_loss: 0.3546 - val_accuracy: 0.8968\n",
            "Epoch 16/20\n",
            "422/422 [==============================] - 3s 6ms/step - loss: 0.1060 - accuracy: 0.9602 - val_loss: 0.3569 - val_accuracy: 0.9002\n",
            "Epoch 17/20\n",
            "422/422 [==============================] - 3s 6ms/step - loss: 0.0984 - accuracy: 0.9636 - val_loss: 0.3853 - val_accuracy: 0.8927\n",
            "Epoch 18/20\n",
            "422/422 [==============================] - 3s 8ms/step - loss: 0.0923 - accuracy: 0.9659 - val_loss: 0.4292 - val_accuracy: 0.8900\n",
            "Epoch 19/20\n",
            "422/422 [==============================] - 3s 6ms/step - loss: 0.0883 - accuracy: 0.9677 - val_loss: 0.3832 - val_accuracy: 0.9013\n",
            "Epoch 20/20\n",
            "422/422 [==============================] - 3s 6ms/step - loss: 0.0809 - accuracy: 0.9694 - val_loss: 0.4132 - val_accuracy: 0.8973\n"
          ]
        },
        {
          "output_type": "execute_result",
          "data": {
            "text/plain": [
              "<keras.src.callbacks.History at 0x7e111646ba00>"
            ]
          },
          "metadata": {},
          "execution_count": 39
        }
      ],
      "source": [
        "# 모델 학습\n",
        "model.fit(x_train, y_train, epochs=20, batch_size=128, validation_split=0.1)"
      ]
    },
    {
      "cell_type": "code",
      "execution_count": 40,
      "metadata": {
        "id": "53cumPp09C-6",
        "colab": {
          "base_uri": "https://localhost:8080/"
        },
        "outputId": "35ecadd6-d15a-468b-f39c-b749de4925fd"
      },
      "outputs": [
        {
          "output_type": "stream",
          "name": "stdout",
          "text": [
            "313/313 [==============================] - 1s 3ms/step - loss: 0.4164 - accuracy: 0.8914\n"
          ]
        },
        {
          "output_type": "execute_result",
          "data": {
            "text/plain": [
              "[0.41640838980674744, 0.8913999795913696]"
            ]
          },
          "metadata": {},
          "execution_count": 40
        }
      ],
      "source": [
        "# 모델 평가\n",
        "model.evaluate(x_test, y_test)"
      ]
    },
    {
      "cell_type": "markdown",
      "metadata": {
        "id": "zg-E-uTEBwFJ"
      },
      "source": [
        "## Lenet-5 + cifar10"
      ]
    },
    {
      "cell_type": "code",
      "execution_count": 41,
      "metadata": {
        "id": "fKVAh5uy9RrU",
        "colab": {
          "base_uri": "https://localhost:8080/"
        },
        "outputId": "159312a7-e94e-4366-8640-b0be28c79134"
      },
      "outputs": [
        {
          "output_type": "stream",
          "name": "stdout",
          "text": [
            "(50000, 32, 32, 3) (50000, 10)\n",
            "(10000, 32, 32, 3) (10000, 10)\n"
          ]
        }
      ],
      "source": [
        "# 데이터 준비\n",
        "(x_train, y_train), (x_test, y_test) = tf.keras.datasets.cifar10.load_data()\n",
        "\n",
        "# 텐서플로우의 원핫인코딩 함수\n",
        "y_train = tf.keras.utils.to_categorical(y_train)\n",
        "y_test = tf.keras.utils.to_categorical(y_test)\n",
        "\n",
        "print(x_train.shape, y_train.shape)\n",
        "print(x_test.shape, y_test.shape)"
      ]
    },
    {
      "cell_type": "code",
      "execution_count": 42,
      "metadata": {
        "id": "Gb0lYLGQB2mP",
        "colab": {
          "base_uri": "https://localhost:8080/"
        },
        "outputId": "52da98fa-7440-4302-e7b7-ce0d80b209dc"
      },
      "outputs": [
        {
          "output_type": "stream",
          "name": "stdout",
          "text": [
            "Model: \"model_6\"\n",
            "_________________________________________________________________\n",
            " Layer (type)                Output Shape              Param #   \n",
            "=================================================================\n",
            " input_7 (InputLayer)        [(None, 32, 32, 3)]       0         \n",
            "                                                                 \n",
            " conv2d_8 (Conv2D)           (None, 28, 28, 6)         456       \n",
            "                                                                 \n",
            " batch_normalization_4 (Bat  (None, 28, 28, 6)         24        \n",
            " chNormalization)                                                \n",
            "                                                                 \n",
            " activation_4 (Activation)   (None, 28, 28, 6)         0         \n",
            "                                                                 \n",
            " max_pooling2d_6 (MaxPoolin  (None, 14, 14, 6)         0         \n",
            " g2D)                                                            \n",
            "                                                                 \n",
            " conv2d_9 (Conv2D)           (None, 10, 10, 16)        2416      \n",
            "                                                                 \n",
            " batch_normalization_5 (Bat  (None, 10, 10, 16)        64        \n",
            " chNormalization)                                                \n",
            "                                                                 \n",
            " activation_5 (Activation)   (None, 10, 10, 16)        0         \n",
            "                                                                 \n",
            " max_pooling2d_7 (MaxPoolin  (None, 5, 5, 16)          0         \n",
            " g2D)                                                            \n",
            "                                                                 \n",
            " flatten_5 (Flatten)         (None, 400)               0         \n",
            "                                                                 \n",
            " dense_13 (Dense)            (None, 120)               48120     \n",
            "                                                                 \n",
            " batch_normalization_6 (Bat  (None, 120)               480       \n",
            " chNormalization)                                                \n",
            "                                                                 \n",
            " activation_6 (Activation)   (None, 120)               0         \n",
            "                                                                 \n",
            " dense_14 (Dense)            (None, 84)                10164     \n",
            "                                                                 \n",
            " batch_normalization_7 (Bat  (None, 84)                336       \n",
            " chNormalization)                                                \n",
            "                                                                 \n",
            " activation_7 (Activation)   (None, 84)                0         \n",
            "                                                                 \n",
            " dense_15 (Dense)            (None, 10)                850       \n",
            "                                                                 \n",
            "=================================================================\n",
            "Total params: 62910 (245.74 KB)\n",
            "Trainable params: 62458 (243.98 KB)\n",
            "Non-trainable params: 452 (1.77 KB)\n",
            "_________________________________________________________________\n"
          ]
        }
      ],
      "source": [
        "# 모델 생성\n",
        "X = tf.keras.Input(shape=[32, 32, 3])\n",
        "\n",
        "H = tf.keras.layers.Conv2D(6, 5)(X)\n",
        "H = tf.keras.layers.BatchNormalization()(H)\n",
        "H = tf.keras.layers.Activation(\"swish\")(H)\n",
        "H = tf.keras.layers.MaxPool2D()(H)\n",
        "\n",
        "H = tf.keras.layers.Conv2D(16, 5)(H)\n",
        "H = tf.keras.layers.BatchNormalization()(H)\n",
        "H = tf.keras.layers.Activation(\"swish\")(H)\n",
        "H = tf.keras.layers.MaxPool2D()(H)\n",
        "\n",
        "H = tf.keras.layers.Flatten()(H)\n",
        "\n",
        "H = tf.keras.layers.Dense(120)(H)\n",
        "H = tf.keras.layers.BatchNormalization()(H)\n",
        "H = tf.keras.layers.Activation(\"swish\")(H)\n",
        "\n",
        "H = tf.keras.layers.Dense(84)(H)\n",
        "H = tf.keras.layers.BatchNormalization()(H)\n",
        "H = tf.keras.layers.Activation(\"swish\")(H)\n",
        "\n",
        "Y = tf.keras.layers.Dense(10, activation=\"softmax\")(H)\n",
        "\n",
        "model = tf.keras.Model(X, Y)\n",
        "model.compile(loss=\"categorical_crossentropy\", metrics=\"accuracy\")\n",
        "model.summary()"
      ]
    },
    {
      "cell_type": "code",
      "execution_count": 43,
      "metadata": {
        "id": "u_KOw6aeCLqj",
        "colab": {
          "base_uri": "https://localhost:8080/"
        },
        "outputId": "43787ee7-98b9-41ec-8481-cb1c3d8577a4"
      },
      "outputs": [
        {
          "output_type": "stream",
          "name": "stdout",
          "text": [
            "Epoch 1/20\n",
            "352/352 [==============================] - 5s 8ms/step - loss: 1.4945 - accuracy: 0.4661 - val_loss: 1.3092 - val_accuracy: 0.5316\n",
            "Epoch 2/20\n",
            "352/352 [==============================] - 3s 7ms/step - loss: 1.2057 - accuracy: 0.5692 - val_loss: 1.3130 - val_accuracy: 0.5278\n",
            "Epoch 3/20\n",
            "352/352 [==============================] - 3s 7ms/step - loss: 1.0864 - accuracy: 0.6147 - val_loss: 1.1403 - val_accuracy: 0.5946\n",
            "Epoch 4/20\n",
            "352/352 [==============================] - 2s 6ms/step - loss: 1.0050 - accuracy: 0.6424 - val_loss: 1.3653 - val_accuracy: 0.5488\n",
            "Epoch 5/20\n",
            "352/352 [==============================] - 2s 6ms/step - loss: 0.9432 - accuracy: 0.6681 - val_loss: 1.6108 - val_accuracy: 0.4754\n",
            "Epoch 6/20\n",
            "352/352 [==============================] - 2s 6ms/step - loss: 0.8885 - accuracy: 0.6863 - val_loss: 1.1862 - val_accuracy: 0.5996\n",
            "Epoch 7/20\n",
            "352/352 [==============================] - 3s 8ms/step - loss: 0.8446 - accuracy: 0.7018 - val_loss: 1.1582 - val_accuracy: 0.6152\n",
            "Epoch 8/20\n",
            "352/352 [==============================] - 2s 7ms/step - loss: 0.8027 - accuracy: 0.7165 - val_loss: 1.2281 - val_accuracy: 0.5962\n",
            "Epoch 9/20\n",
            "352/352 [==============================] - 2s 6ms/step - loss: 0.7646 - accuracy: 0.7314 - val_loss: 1.1093 - val_accuracy: 0.6270\n",
            "Epoch 10/20\n",
            "352/352 [==============================] - 3s 7ms/step - loss: 0.7320 - accuracy: 0.7430 - val_loss: 1.2017 - val_accuracy: 0.6122\n",
            "Epoch 11/20\n",
            "352/352 [==============================] - 2s 6ms/step - loss: 0.7004 - accuracy: 0.7523 - val_loss: 1.5320 - val_accuracy: 0.5322\n",
            "Epoch 12/20\n",
            "352/352 [==============================] - 3s 8ms/step - loss: 0.6686 - accuracy: 0.7653 - val_loss: 1.8514 - val_accuracy: 0.4982\n",
            "Epoch 13/20\n",
            "352/352 [==============================] - 2s 7ms/step - loss: 0.6440 - accuracy: 0.7742 - val_loss: 1.3840 - val_accuracy: 0.5846\n",
            "Epoch 14/20\n",
            "352/352 [==============================] - 2s 7ms/step - loss: 0.6156 - accuracy: 0.7825 - val_loss: 1.3520 - val_accuracy: 0.5912\n",
            "Epoch 15/20\n",
            "352/352 [==============================] - 2s 7ms/step - loss: 0.5951 - accuracy: 0.7914 - val_loss: 1.1606 - val_accuracy: 0.6364\n",
            "Epoch 16/20\n",
            "352/352 [==============================] - 2s 7ms/step - loss: 0.5702 - accuracy: 0.8005 - val_loss: 1.5091 - val_accuracy: 0.5698\n",
            "Epoch 17/20\n",
            "352/352 [==============================] - 3s 8ms/step - loss: 0.5466 - accuracy: 0.8060 - val_loss: 1.3647 - val_accuracy: 0.5968\n",
            "Epoch 18/20\n",
            "352/352 [==============================] - 2s 6ms/step - loss: 0.5237 - accuracy: 0.8163 - val_loss: 1.4009 - val_accuracy: 0.6114\n",
            "Epoch 19/20\n",
            "352/352 [==============================] - 2s 6ms/step - loss: 0.5060 - accuracy: 0.8219 - val_loss: 1.3476 - val_accuracy: 0.6106\n",
            "Epoch 20/20\n",
            "352/352 [==============================] - 2s 7ms/step - loss: 0.4850 - accuracy: 0.8303 - val_loss: 1.6084 - val_accuracy: 0.5882\n"
          ]
        },
        {
          "output_type": "execute_result",
          "data": {
            "text/plain": [
              "<keras.src.callbacks.History at 0x7e1114fa9ea0>"
            ]
          },
          "metadata": {},
          "execution_count": 43
        }
      ],
      "source": [
        "# 모델 학습\n",
        "model.fit(x_train, y_train, epochs=20, batch_size=128, validation_split=0.1)"
      ]
    },
    {
      "cell_type": "markdown",
      "metadata": {
        "id": "kxyFMSGvMq-p"
      },
      "source": [
        "## Lenet-5 + cifar10 + dropout"
      ]
    },
    {
      "cell_type": "code",
      "execution_count": 44,
      "metadata": {
        "id": "D8tokzHLCPPe",
        "colab": {
          "base_uri": "https://localhost:8080/"
        },
        "outputId": "7c7015bf-f23a-489b-ab8d-0aa907fed481"
      },
      "outputs": [
        {
          "output_type": "stream",
          "name": "stdout",
          "text": [
            "(50000, 32, 32, 3) (50000, 10)\n",
            "(10000, 32, 32, 3) (10000, 10)\n"
          ]
        }
      ],
      "source": [
        "# 데이터 준비\n",
        "(x_train, y_train), (x_test, y_test) = tf.keras.datasets.cifar10.load_data()\n",
        "\n",
        "# normalize\n",
        "x_train = x_train / 255\n",
        "x_test = x_test / 255\n",
        "\n",
        "# 텐서플로우의 원핫인코딩 함수\n",
        "y_train = tf.keras.utils.to_categorical(y_train)\n",
        "y_test = tf.keras.utils.to_categorical(y_test)\n",
        "\n",
        "print(x_train.shape, y_train.shape)\n",
        "print(x_test.shape, y_test.shape)"
      ]
    },
    {
      "cell_type": "code",
      "execution_count": 45,
      "metadata": {
        "id": "vDRiRlggM5xs",
        "colab": {
          "base_uri": "https://localhost:8080/"
        },
        "outputId": "4a4de837-a5ba-412d-8afa-46f360833adc"
      },
      "outputs": [
        {
          "output_type": "stream",
          "name": "stdout",
          "text": [
            "Model: \"model_7\"\n",
            "_________________________________________________________________\n",
            " Layer (type)                Output Shape              Param #   \n",
            "=================================================================\n",
            " input_8 (InputLayer)        [(None, 32, 32, 3)]       0         \n",
            "                                                                 \n",
            " conv2d_10 (Conv2D)          (None, 28, 28, 6)         456       \n",
            "                                                                 \n",
            " batch_normalization_8 (Bat  (None, 28, 28, 6)         24        \n",
            " chNormalization)                                                \n",
            "                                                                 \n",
            " activation_8 (Activation)   (None, 28, 28, 6)         0         \n",
            "                                                                 \n",
            " conv2d_11 (Conv2D)          (None, 14, 14, 6)         906       \n",
            "                                                                 \n",
            " batch_normalization_9 (Bat  (None, 14, 14, 6)         24        \n",
            " chNormalization)                                                \n",
            "                                                                 \n",
            " activation_9 (Activation)   (None, 14, 14, 6)         0         \n",
            "                                                                 \n",
            " conv2d_12 (Conv2D)          (None, 10, 10, 16)        2416      \n",
            "                                                                 \n",
            " batch_normalization_10 (Ba  (None, 10, 10, 16)        64        \n",
            " tchNormalization)                                               \n",
            "                                                                 \n",
            " activation_10 (Activation)  (None, 10, 10, 16)        0         \n",
            "                                                                 \n",
            " conv2d_13 (Conv2D)          (None, 5, 5, 16)          6416      \n",
            "                                                                 \n",
            " batch_normalization_11 (Ba  (None, 5, 5, 16)          64        \n",
            " tchNormalization)                                               \n",
            "                                                                 \n",
            " activation_11 (Activation)  (None, 5, 5, 16)          0         \n",
            "                                                                 \n",
            " flatten_6 (Flatten)         (None, 400)               0         \n",
            "                                                                 \n",
            " dropout (Dropout)           (None, 400)               0         \n",
            "                                                                 \n",
            " dense_16 (Dense)            (None, 120)               48120     \n",
            "                                                                 \n",
            " batch_normalization_12 (Ba  (None, 120)               480       \n",
            " tchNormalization)                                               \n",
            "                                                                 \n",
            " activation_12 (Activation)  (None, 120)               0         \n",
            "                                                                 \n",
            " dense_17 (Dense)            (None, 84)                10164     \n",
            "                                                                 \n",
            " batch_normalization_13 (Ba  (None, 84)                336       \n",
            " tchNormalization)                                               \n",
            "                                                                 \n",
            " activation_13 (Activation)  (None, 84)                0         \n",
            "                                                                 \n",
            " dense_18 (Dense)            (None, 10)                850       \n",
            "                                                                 \n",
            "=================================================================\n",
            "Total params: 70320 (274.69 KB)\n",
            "Trainable params: 69824 (272.75 KB)\n",
            "Non-trainable params: 496 (1.94 KB)\n",
            "_________________________________________________________________\n"
          ]
        }
      ],
      "source": [
        "# 모델 생성\n",
        "X = tf.keras.Input(shape=[32, 32, 3])\n",
        "\n",
        "H = tf.keras.layers.Conv2D(6, 5)(X)\n",
        "H = tf.keras.layers.BatchNormalization()(H)\n",
        "H = tf.keras.layers.Activation(\"swish\")(H)\n",
        "# H = tf.keras.layers.MaxPool2D()(H)\n",
        "H = tf.keras.layers.Conv2D(6, 5, strides=2, padding=\"same\")(H)\n",
        "H = tf.keras.layers.BatchNormalization()(H)\n",
        "H = tf.keras.layers.Activation(\"swish\")(H)\n",
        "\n",
        "H = tf.keras.layers.Conv2D(16, 5)(H)\n",
        "H = tf.keras.layers.BatchNormalization()(H)\n",
        "H = tf.keras.layers.Activation(\"swish\")(H)\n",
        "# H = tf.keras.layers.MaxPool2D()(H)\n",
        "H = tf.keras.layers.Conv2D(16, 5, strides=2, padding=\"same\")(H)\n",
        "H = tf.keras.layers.BatchNormalization()(H)\n",
        "H = tf.keras.layers.Activation(\"swish\")(H)\n",
        "\n",
        "H = tf.keras.layers.Flatten()(H)\n",
        "\n",
        "H = tf.keras.layers.Dropout(0.6)(H)\n",
        "H = tf.keras.layers.Dense(120)(H)\n",
        "H = tf.keras.layers.BatchNormalization()(H)\n",
        "H = tf.keras.layers.Activation(\"swish\")(H)\n",
        "\n",
        "H = tf.keras.layers.Dense(84)(H)\n",
        "H = tf.keras.layers.BatchNormalization()(H)\n",
        "H = tf.keras.layers.Activation(\"swish\")(H)\n",
        "\n",
        "Y = tf.keras.layers.Dense(10, activation=\"softmax\")(H)\n",
        "\n",
        "model = tf.keras.Model(X, Y)\n",
        "model.compile(loss=\"categorical_crossentropy\", metrics=\"accuracy\")\n",
        "model.summary()"
      ]
    },
    {
      "cell_type": "code",
      "execution_count": 46,
      "metadata": {
        "id": "lV1sXf8sNKxk",
        "colab": {
          "base_uri": "https://localhost:8080/"
        },
        "outputId": "44ce2672-f1ac-4800-8b25-3b074207762c"
      },
      "outputs": [
        {
          "output_type": "stream",
          "name": "stdout",
          "text": [
            "Epoch 1/100000\n",
            "352/352 [==============================] - 8s 11ms/step - loss: 1.7430 - accuracy: 0.3557 - val_loss: 2.1179 - val_accuracy: 0.2946\n",
            "Epoch 2/100000\n",
            "352/352 [==============================] - 3s 8ms/step - loss: 1.4910 - accuracy: 0.4506 - val_loss: 1.4390 - val_accuracy: 0.4820\n",
            "Epoch 3/100000\n",
            "352/352 [==============================] - 3s 10ms/step - loss: 1.4073 - accuracy: 0.4866 - val_loss: 1.3382 - val_accuracy: 0.5112\n",
            "Epoch 4/100000\n",
            "352/352 [==============================] - 3s 8ms/step - loss: 1.3437 - accuracy: 0.5097 - val_loss: 1.3481 - val_accuracy: 0.5202\n",
            "Epoch 5/100000\n",
            "352/352 [==============================] - 3s 8ms/step - loss: 1.2923 - accuracy: 0.5289 - val_loss: 1.4091 - val_accuracy: 0.5028\n",
            "Epoch 6/100000\n",
            "352/352 [==============================] - 3s 8ms/step - loss: 1.2546 - accuracy: 0.5458 - val_loss: 1.2323 - val_accuracy: 0.5508\n",
            "Epoch 7/100000\n",
            "352/352 [==============================] - 3s 10ms/step - loss: 1.2192 - accuracy: 0.5592 - val_loss: 1.2651 - val_accuracy: 0.5402\n",
            "Epoch 8/100000\n",
            "352/352 [==============================] - 3s 8ms/step - loss: 1.1919 - accuracy: 0.5717 - val_loss: 1.2313 - val_accuracy: 0.5580\n",
            "Epoch 9/100000\n",
            "352/352 [==============================] - 3s 8ms/step - loss: 1.1595 - accuracy: 0.5808 - val_loss: 1.1673 - val_accuracy: 0.5832\n",
            "Epoch 10/100000\n",
            "352/352 [==============================] - 3s 8ms/step - loss: 1.1391 - accuracy: 0.5895 - val_loss: 1.0502 - val_accuracy: 0.6322\n",
            "Epoch 11/100000\n",
            "352/352 [==============================] - 3s 10ms/step - loss: 1.1180 - accuracy: 0.5998 - val_loss: 1.1188 - val_accuracy: 0.6044\n",
            "Epoch 12/100000\n",
            "352/352 [==============================] - 3s 8ms/step - loss: 1.1052 - accuracy: 0.6022 - val_loss: 1.0084 - val_accuracy: 0.6472\n",
            "Epoch 13/100000\n",
            "352/352 [==============================] - 3s 8ms/step - loss: 1.0843 - accuracy: 0.6105 - val_loss: 1.0633 - val_accuracy: 0.6224\n",
            "Epoch 14/100000\n",
            "352/352 [==============================] - 3s 8ms/step - loss: 1.0666 - accuracy: 0.6190 - val_loss: 1.0029 - val_accuracy: 0.6410\n",
            "Epoch 15/100000\n",
            "352/352 [==============================] - 3s 10ms/step - loss: 1.0551 - accuracy: 0.6212 - val_loss: 0.9783 - val_accuracy: 0.6588\n",
            "Epoch 16/100000\n",
            "352/352 [==============================] - 3s 8ms/step - loss: 1.0416 - accuracy: 0.6251 - val_loss: 1.0501 - val_accuracy: 0.6312\n",
            "Epoch 17/100000\n",
            "352/352 [==============================] - 3s 9ms/step - loss: 1.0309 - accuracy: 0.6322 - val_loss: 1.0605 - val_accuracy: 0.6254\n",
            "Epoch 18/100000\n",
            "352/352 [==============================] - 3s 8ms/step - loss: 1.0212 - accuracy: 0.6352 - val_loss: 1.1027 - val_accuracy: 0.6144\n",
            "Epoch 19/100000\n",
            "352/352 [==============================] - 3s 10ms/step - loss: 1.0125 - accuracy: 0.6380 - val_loss: 0.9893 - val_accuracy: 0.6564\n",
            "Epoch 20/100000\n",
            "352/352 [==============================] - 3s 8ms/step - loss: 1.0038 - accuracy: 0.6412 - val_loss: 1.0708 - val_accuracy: 0.6234\n"
          ]
        },
        {
          "output_type": "execute_result",
          "data": {
            "text/plain": [
              "<keras.src.callbacks.History at 0x7e11161b4ee0>"
            ]
          },
          "metadata": {},
          "execution_count": 46
        }
      ],
      "source": [
        "# 모델 학습\n",
        "es = tf.keras.callbacks.EarlyStopping(patience=5, restore_best_weights=True)\n",
        "model.fit(x_train, y_train, epochs=100000, batch_size=128, validation_split=0.1, callbacks=[es])"
      ]
    },
    {
      "cell_type": "markdown",
      "metadata": {
        "id": "ezFWHTskVBIP"
      },
      "source": [
        "## Data Augmentation\n",
        "- 256x256 이미지 10,000장을 학습용 이미지로 제공\n",
        "- 224x224로 crop 하여 1장의 이미지에서 1024 이미지를 추출\n",
        "- 좌우반전을 더해 총 2048만 장의 이미지로 학습을 하게 된다."
      ]
    },
    {
      "cell_type": "code",
      "execution_count": 47,
      "metadata": {
        "id": "KVLkaNNHVA2i"
      },
      "outputs": [],
      "source": [
        "datagen = tf.keras.preprocessing.image.ImageDataGenerator(\n",
        "    width_shift_range=0.1,\n",
        "    height_shift_range=0.1,\n",
        "    horizontal_flip=False,\n",
        "    rotation_range=0.1,\n",
        ")\n",
        "train_ds = datagen.flow(x_train[:40000], y_train[:40000], batch_size=128)\n",
        "valid_ds = tf.data.Dataset.from_tensor_slices((x_train[40000:], y_train[40000:])).batch(128)"
      ]
    },
    {
      "cell_type": "code",
      "execution_count": 48,
      "metadata": {
        "id": "WC21T2lANQpA",
        "colab": {
          "base_uri": "https://localhost:8080/",
          "height": 448
        },
        "outputId": "f85cf437-3873-4c82-e39d-739c342d806c"
      },
      "outputs": [
        {
          "output_type": "stream",
          "name": "stdout",
          "text": [
            "(128, 32, 32, 3) (128, 10)\n"
          ]
        },
        {
          "output_type": "display_data",
          "data": {
            "text/plain": [
              "<Figure size 640x480 with 1 Axes>"
            ],
            "image/png": "[encoded data removed]"
          },
          "metadata": {}
        }
      ],
      "source": [
        "x, y = next(iter(train_ds))\n",
        "print(x.shape, y.shape)\n",
        "\n",
        "import matplotlib.pyplot as plt\n",
        "plt.imshow(x[0])\n",
        "plt.show()"
      ]
    },
    {
      "cell_type": "code",
      "execution_count": 49,
      "metadata": {
        "id": "XHzMVg53YXiL",
        "colab": {
          "base_uri": "https://localhost:8080/"
        },
        "outputId": "b336e6af-9ffc-4c51-efb3-40eb4438d2b7"
      },
      "outputs": [
        {
          "output_type": "stream",
          "name": "stdout",
          "text": [
            "Epoch 1/100000\n",
            "313/313 [==============================] - 23s 71ms/step - loss: 1.1898 - accuracy: 0.5735 - val_loss: 1.0009 - val_accuracy: 0.6436\n",
            "Epoch 2/100000\n",
            "313/313 [==============================] - 21s 68ms/step - loss: 1.1675 - accuracy: 0.5801 - val_loss: 1.0906 - val_accuracy: 0.6159\n",
            "Epoch 3/100000\n",
            "313/313 [==============================] - 22s 70ms/step - loss: 1.1598 - accuracy: 0.5838 - val_loss: 1.1109 - val_accuracy: 0.5972\n",
            "Epoch 4/100000\n",
            "313/313 [==============================] - 22s 70ms/step - loss: 1.1485 - accuracy: 0.5900 - val_loss: 1.0584 - val_accuracy: 0.6235\n",
            "Epoch 5/100000\n",
            "313/313 [==============================] - 22s 70ms/step - loss: 1.1368 - accuracy: 0.5936 - val_loss: 1.0329 - val_accuracy: 0.6352\n",
            "Epoch 6/100000\n",
            "313/313 [==============================] - 22s 71ms/step - loss: 1.1325 - accuracy: 0.5925 - val_loss: 0.9585 - val_accuracy: 0.6554\n",
            "Epoch 7/100000\n",
            "313/313 [==============================] - 22s 71ms/step - loss: 1.1268 - accuracy: 0.5942 - val_loss: 1.0612 - val_accuracy: 0.6213\n",
            "Epoch 8/100000\n",
            "313/313 [==============================] - 24s 77ms/step - loss: 1.1154 - accuracy: 0.6004 - val_loss: 0.9948 - val_accuracy: 0.6458\n",
            "Epoch 9/100000\n",
            "313/313 [==============================] - 22s 70ms/step - loss: 1.1129 - accuracy: 0.5970 - val_loss: 1.0640 - val_accuracy: 0.6250\n",
            "Epoch 10/100000\n",
            "313/313 [==============================] - 21s 68ms/step - loss: 1.1011 - accuracy: 0.6042 - val_loss: 1.0797 - val_accuracy: 0.6192\n",
            "Epoch 11/100000\n",
            "313/313 [==============================] - 22s 71ms/step - loss: 1.0960 - accuracy: 0.6036 - val_loss: 0.9376 - val_accuracy: 0.6653\n",
            "Epoch 12/100000\n",
            "313/313 [==============================] - 26s 82ms/step - loss: 1.0935 - accuracy: 0.6090 - val_loss: 1.1028 - val_accuracy: 0.6042\n",
            "Epoch 13/100000\n",
            "313/313 [==============================] - 23s 74ms/step - loss: 1.0841 - accuracy: 0.6118 - val_loss: 0.9734 - val_accuracy: 0.6512\n",
            "Epoch 14/100000\n",
            "313/313 [==============================] - 22s 70ms/step - loss: 1.0851 - accuracy: 0.6118 - val_loss: 1.0120 - val_accuracy: 0.6457\n",
            "Epoch 15/100000\n",
            "313/313 [==============================] - 23s 72ms/step - loss: 1.0746 - accuracy: 0.6145 - val_loss: 0.9768 - val_accuracy: 0.6516\n",
            "Epoch 16/100000\n",
            "313/313 [==============================] - 24s 76ms/step - loss: 1.0679 - accuracy: 0.6183 - val_loss: 0.9288 - val_accuracy: 0.6678\n",
            "Epoch 17/100000\n",
            "313/313 [==============================] - 22s 69ms/step - loss: 1.0614 - accuracy: 0.6184 - val_loss: 0.9226 - val_accuracy: 0.6693\n",
            "Epoch 18/100000\n",
            "313/313 [==============================] - 22s 70ms/step - loss: 1.0633 - accuracy: 0.6195 - val_loss: 0.8998 - val_accuracy: 0.6752\n",
            "Epoch 19/100000\n",
            "313/313 [==============================] - 22s 70ms/step - loss: 1.0609 - accuracy: 0.6202 - val_loss: 0.9005 - val_accuracy: 0.6775\n",
            "Epoch 20/100000\n",
            "313/313 [==============================] - 22s 71ms/step - loss: 1.0494 - accuracy: 0.6280 - val_loss: 0.9169 - val_accuracy: 0.6756\n",
            "Epoch 21/100000\n",
            "313/313 [==============================] - 22s 69ms/step - loss: 1.0488 - accuracy: 0.6240 - val_loss: 0.8904 - val_accuracy: 0.6850\n",
            "Epoch 22/100000\n",
            "313/313 [==============================] - 22s 69ms/step - loss: 1.0477 - accuracy: 0.6254 - val_loss: 1.0247 - val_accuracy: 0.6405\n",
            "Epoch 23/100000\n",
            "313/313 [==============================] - 22s 70ms/step - loss: 1.0395 - accuracy: 0.6275 - val_loss: 0.9470 - val_accuracy: 0.6623\n",
            "Epoch 24/100000\n",
            "313/313 [==============================] - 21s 68ms/step - loss: 1.0335 - accuracy: 0.6274 - val_loss: 0.9194 - val_accuracy: 0.6726\n",
            "Epoch 25/100000\n",
            "313/313 [==============================] - 22s 69ms/step - loss: 1.0326 - accuracy: 0.6323 - val_loss: 0.9344 - val_accuracy: 0.6707\n",
            "Epoch 26/100000\n",
            "313/313 [==============================] - 22s 69ms/step - loss: 1.0313 - accuracy: 0.6307 - val_loss: 0.9677 - val_accuracy: 0.6597\n"
          ]
        },
        {
          "output_type": "execute_result",
          "data": {
            "text/plain": [
              "<keras.src.callbacks.History at 0x7e1115bef0a0>"
            ]
          },
          "metadata": {},
          "execution_count": 49
        }
      ],
      "source": [
        "# 모델 학습\n",
        "es = tf.keras.callbacks.EarlyStopping(patience=5, restore_best_weights=True)\n",
        "model.fit(train_ds, validation_data=valid_ds, epochs=100000, callbacks=[es])"
      ]
    },
    {
      "cell_type": "code",
      "execution_count": 50,
      "metadata": {
        "id": "xs77xTTIZS2U",
        "colab": {
          "base_uri": "https://localhost:8080/"
        },
        "outputId": "09837a12-ba88-44f8-fc57-c4346a27030f"
      },
      "outputs": [
        {
          "output_type": "stream",
          "name": "stdout",
          "text": [
            "313/313 [==============================] - 1s 3ms/step - loss: 0.9175 - accuracy: 0.6746\n"
          ]
        },
        {
          "output_type": "execute_result",
          "data": {
            "text/plain": [
              "[0.9174827337265015, 0.6746000051498413]"
            ]
          },
          "metadata": {},
          "execution_count": 50
        }
      ],
      "source": [
        "model.evaluate(x_test, y_test)"
      ]
    },
    {
      "cell_type": "code",
      "execution_count": 50,
      "metadata": {
        "id": "PelELvulPz1f"
      },
      "outputs": [],
      "source": []
    }
  ],
  "metadata": {
    "accelerator": "GPU",
    "colab": {
      "provenance": []
    },
    "gpuClass": "standard",
    "kernelspec": {
      "display_name": "Python 3 (ipykernel)",
      "language": "python",
      "name": "python3"
    },
    "language_info": {
      "codemirror_mode": {
        "name": "ipython",
        "version": 3
      },
      "file_extension": ".py",
      "mimetype": "text/x-python",
      "name": "python",
      "nbconvert_exporter": "python",
      "pygments_lexer": "ipython3",
      "version": "3.11.3"
    }
  },
  "nbformat": 4,
  "nbformat_minor": 0
}
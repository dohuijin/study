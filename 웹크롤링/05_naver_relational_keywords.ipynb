{
  "cells": [
    {
      "cell_type": "markdown",
      "id": "2f46af77",
      "metadata": {
        "id": "2f46af77"
      },
      "source": [
        "### 네이버 연관 검색어 수집\n",
        "- 정적(static) 웹페이지 데이터 수집\n",
        "- BeautifulSoup을 이용하여 HTML 문자열 데이터 parsing"
      ]
    },
    {
      "cell_type": "code",
      "execution_count": null,
      "id": "ee450c14",
      "metadata": {
        "id": "ee450c14"
      },
      "outputs": [],
      "source": [
        "import pandas as pd\n",
        "import requests\n",
        "from bs4 import BeautifulSoup"
      ]
    },
    {
      "cell_type": "code",
      "execution_count": null,
      "id": "3cc63781",
      "metadata": {
        "id": "3cc63781"
      },
      "outputs": [],
      "source": [
        "# 1. 웹페이지 분석 : URL"
      ]
    },
    {
      "cell_type": "code",
      "execution_count": null,
      "id": "b3f60a20",
      "metadata": {
        "id": "b3f60a20",
        "outputId": "4ff8834e-a73a-4105-eb42-c6dbf71e52ce"
      },
      "outputs": [
        {
          "name": "stdout",
          "output_type": "stream",
          "text": [
            "https://search.naver.com/search.naver?query=삼성전자\n"
          ]
        }
      ],
      "source": [
        "query = \"삼성전자\"\n",
        "url = f\"https://search.naver.com/search.naver?query={query}\"\n",
        "print(url)"
      ]
    },
    {
      "cell_type": "code",
      "execution_count": null,
      "id": "3a3c0b24",
      "metadata": {
        "id": "3a3c0b24"
      },
      "outputs": [],
      "source": [
        "# 2. request(URL) > response : str(html)"
      ]
    },
    {
      "cell_type": "code",
      "execution_count": null,
      "id": "c3e26331",
      "metadata": {
        "id": "c3e26331",
        "outputId": "87bccc56-14ef-426c-a74c-ab46986831d9"
      },
      "outputs": [
        {
          "data": {
            "text/plain": [
              "<Response [200]>"
            ]
          },
          "execution_count": 5,
          "metadata": {},
          "output_type": "execute_result"
        }
      ],
      "source": [
        "response = requests.get(url)\n",
        "response"
      ]
    },
    {
      "cell_type": "code",
      "execution_count": null,
      "id": "48abba96",
      "metadata": {
        "id": "48abba96",
        "outputId": "25df1a90-4dd2-4642-9c9c-573b78a36cbf"
      },
      "outputs": [
        {
          "data": {
            "text/plain": [
              "'<!doctype html> <html lang=\"ko\"><head> <meta charset=\"utf-8\"> <meta name=\"referrer\" content=\"always\">  <meta name=\"format-detection\" content=\"telephone=no,address=no,email=no\"> <meta name=\"viewport\" content=\"width=device-width,initial-scale=1.0,maxim'"
            ]
          },
          "execution_count": 6,
          "metadata": {},
          "output_type": "execute_result"
        }
      ],
      "source": [
        "response.text[:250]"
      ]
    },
    {
      "cell_type": "code",
      "execution_count": null,
      "id": "0e007abe",
      "metadata": {
        "id": "0e007abe"
      },
      "outputs": [],
      "source": [
        "# 3. str(html) > bs object"
      ]
    },
    {
      "cell_type": "code",
      "execution_count": null,
      "id": "f1775011",
      "metadata": {
        "id": "f1775011",
        "outputId": "58b6f61c-123e-4ec4-e626-976fd01e0873"
      },
      "outputs": [
        {
          "data": {
            "text/plain": [
              "bs4.BeautifulSoup"
            ]
          },
          "execution_count": 8,
          "metadata": {},
          "output_type": "execute_result"
        }
      ],
      "source": [
        "dom = BeautifulSoup(response.text, \"html.parser\")\n",
        "type(dom)"
      ]
    },
    {
      "cell_type": "code",
      "execution_count": null,
      "id": "4355dc59",
      "metadata": {
        "id": "4355dc59"
      },
      "outputs": [],
      "source": [
        "# 4. bs object > .select(css-selector), .select_one(css-selector) > str(text)"
      ]
    },
    {
      "cell_type": "code",
      "execution_count": null,
      "id": "487afb78",
      "metadata": {
        "id": "487afb78",
        "outputId": "1e0220d2-90c6-4159-d28b-ff1f78247621"
      },
      "outputs": [
        {
          "data": {
            "text/plain": [
              "10"
            ]
          },
          "execution_count": 10,
          "metadata": {},
          "output_type": "execute_result"
        }
      ],
      "source": [
        "# 10개의 엘리먼트들 선택\n",
        "# select() : list(Tag, Tag)\n",
        "# select_one() : Tag\n",
        "elements = dom.select(\".lst_related_srch > .item\")\n",
        "len(elements)"
      ]
    },
    {
      "cell_type": "code",
      "execution_count": null,
      "id": "7515e989",
      "metadata": {
        "id": "7515e989",
        "outputId": "a38badd1-6898-4ab1-9afa-28f79ae36712"
      },
      "outputs": [
        {
          "data": {
            "text/plain": [
              "'삼성전자주가'"
            ]
          },
          "execution_count": 11,
          "metadata": {},
          "output_type": "execute_result"
        }
      ],
      "source": [
        "element = elements[0]\n",
        "keyword = element.select_one(\".tit\").text\n",
        "keyword"
      ]
    },
    {
      "cell_type": "code",
      "execution_count": null,
      "id": "e0fd915b",
      "metadata": {
        "id": "e0fd915b",
        "outputId": "6c695bd7-8f48-4bad-a083-af51ba3615bc"
      },
      "outputs": [
        {
          "data": {
            "text/plain": [
              "'?where=nexearch&query=%EC%82%BC%EC%84%B1%EC%A0%84%EC%9E%90%EC%A3%BC%EA%B0%80&ie=utf8&sm=tab_she&qdt=0'"
            ]
          },
          "execution_count": 12,
          "metadata": {},
          "output_type": "execute_result"
        }
      ],
      "source": [
        "link = element.select_one(\"a\").get(\"href\")\n",
        "link"
      ]
    },
    {
      "cell_type": "code",
      "execution_count": null,
      "id": "1084a6d7",
      "metadata": {
        "id": "1084a6d7",
        "outputId": "8d1625c9-1396-4bd1-b09f-4aa727d373bf"
      },
      "outputs": [
        {
          "data": {
            "text/plain": [
              "'삼성전자주가'"
            ]
          },
          "execution_count": 13,
          "metadata": {},
          "output_type": "execute_result"
        }
      ],
      "source": [
        "element.text.strip()"
      ]
    },
    {
      "cell_type": "code",
      "execution_count": null,
      "id": "5f103ff6",
      "metadata": {
        "id": "5f103ff6"
      },
      "outputs": [],
      "source": [
        "# 각각의 엘리먼트에서 text 데이터 수집"
      ]
    },
    {
      "cell_type": "code",
      "execution_count": null,
      "id": "c2f55cc0",
      "metadata": {
        "id": "c2f55cc0",
        "outputId": "a3029a0b-4936-41a0-9326-11e430beba8b"
      },
      "outputs": [
        {
          "name": "stdout",
          "output_type": "stream",
          "text": [
            "['삼성전자주가', '삼성전자 배당금', '삼성전자서비스', '삼성전자주식', '오늘 삼성전자 주가', '삼성전자 배당금 지급일', '삼성전자몰', '삼성 전자레인지', '삼성전자 채용', '삼성전자 고객센터']\n"
          ]
        }
      ],
      "source": [
        "keywords = []\n",
        "for element in elements:\n",
        "    keyword = element.text.strip()\n",
        "    keywords.append(keyword)\n",
        "print(keywords)"
      ]
    },
    {
      "cell_type": "code",
      "execution_count": null,
      "id": "add0595a",
      "metadata": {
        "id": "add0595a",
        "outputId": "2be5edbe-c839-4ce0-a513-51c1cc63ce96"
      },
      "outputs": [
        {
          "name": "stdout",
          "output_type": "stream",
          "text": [
            "['삼성전자주가', '삼성전자 배당금', '삼성전자서비스', '삼성전자주식', '오늘 삼성전자 주가', '삼성전자 배당금 지급일', '삼성전자몰', '삼성 전자레인지', '삼성전자 채용', '삼성전자 고객센터']\n"
          ]
        }
      ],
      "source": [
        "keywords = [element.text.strip() for element in elements]\n",
        "print(keywords)"
      ]
    },
    {
      "cell_type": "code",
      "execution_count": null,
      "id": "b9e66d61",
      "metadata": {
        "id": "b9e66d61"
      },
      "outputs": [],
      "source": [
        "# 5. str(text) > DataFrame"
      ]
    },
    {
      "cell_type": "code",
      "execution_count": null,
      "id": "a8703f50",
      "metadata": {
        "id": "a8703f50",
        "outputId": "1891dd94-bec1-42bc-b78e-b553765597bc"
      },
      "outputs": [
        {
          "data": {
            "text/html": [
              "<div>\n",
              "<style scoped>\n",
              "    .dataframe tbody tr th:only-of-type {\n",
              "        vertical-align: middle;\n",
              "    }\n",
              "\n",
              "    .dataframe tbody tr th {\n",
              "        vertical-align: top;\n",
              "    }\n",
              "\n",
              "    .dataframe thead th {\n",
              "        text-align: right;\n",
              "    }\n",
              "</style>\n",
              "<table border=\"1\" class=\"dataframe\">\n",
              "  <thead>\n",
              "    <tr style=\"text-align: right;\">\n",
              "      <th></th>\n",
              "      <th>keywors</th>\n",
              "      <th>query</th>\n",
              "    </tr>\n",
              "  </thead>\n",
              "  <tbody>\n",
              "    <tr>\n",
              "      <th>8</th>\n",
              "      <td>삼성전자 채용</td>\n",
              "      <td>삼성전자</td>\n",
              "    </tr>\n",
              "    <tr>\n",
              "      <th>9</th>\n",
              "      <td>삼성전자 고객센터</td>\n",
              "      <td>삼성전자</td>\n",
              "    </tr>\n",
              "  </tbody>\n",
              "</table>\n",
              "</div>"
            ],
            "text/plain": [
              "     keywors query\n",
              "8    삼성전자 채용  삼성전자\n",
              "9  삼성전자 고객센터  삼성전자"
            ]
          },
          "execution_count": 18,
          "metadata": {},
          "output_type": "execute_result"
        }
      ],
      "source": [
        "df = pd.DataFrame({\"keywors\": keywords})\n",
        "df[\"query\"] = query\n",
        "df.tail(2)"
      ]
    },
    {
      "cell_type": "code",
      "execution_count": null,
      "id": "28e48aad",
      "metadata": {
        "id": "28e48aad"
      },
      "outputs": [],
      "source": [
        "# 현재 시간 데이터 추가"
      ]
    },
    {
      "cell_type": "code",
      "execution_count": null,
      "id": "f8684185",
      "metadata": {
        "id": "f8684185"
      },
      "outputs": [],
      "source": [
        "from datetime import datetime"
      ]
    },
    {
      "cell_type": "code",
      "execution_count": null,
      "id": "1c864298",
      "metadata": {
        "id": "1c864298",
        "outputId": "de8a38e9-8d68-45f2-d5e5-2a139020f2af"
      },
      "outputs": [
        {
          "data": {
            "text/plain": [
              "'2023-08-24 08:53'"
            ]
          },
          "execution_count": 21,
          "metadata": {},
          "output_type": "execute_result"
        }
      ],
      "source": [
        "now = datetime.now()\n",
        "now = now.strftime(\"%Y-%m-%d %H:%M\")\n",
        "now"
      ]
    },
    {
      "cell_type": "code",
      "execution_count": null,
      "id": "843239fc",
      "metadata": {
        "id": "843239fc",
        "outputId": "f07e3f7f-769f-4eab-d129-6d7aae37b319"
      },
      "outputs": [
        {
          "data": {
            "text/html": [
              "<div>\n",
              "<style scoped>\n",
              "    .dataframe tbody tr th:only-of-type {\n",
              "        vertical-align: middle;\n",
              "    }\n",
              "\n",
              "    .dataframe tbody tr th {\n",
              "        vertical-align: top;\n",
              "    }\n",
              "\n",
              "    .dataframe thead th {\n",
              "        text-align: right;\n",
              "    }\n",
              "</style>\n",
              "<table border=\"1\" class=\"dataframe\">\n",
              "  <thead>\n",
              "    <tr style=\"text-align: right;\">\n",
              "      <th></th>\n",
              "      <th>keywors</th>\n",
              "      <th>query</th>\n",
              "      <th>date_time</th>\n",
              "    </tr>\n",
              "  </thead>\n",
              "  <tbody>\n",
              "    <tr>\n",
              "      <th>8</th>\n",
              "      <td>삼성전자 채용</td>\n",
              "      <td>삼성전자</td>\n",
              "      <td>2023-08-24 08:53</td>\n",
              "    </tr>\n",
              "    <tr>\n",
              "      <th>9</th>\n",
              "      <td>삼성전자 고객센터</td>\n",
              "      <td>삼성전자</td>\n",
              "      <td>2023-08-24 08:53</td>\n",
              "    </tr>\n",
              "  </tbody>\n",
              "</table>\n",
              "</div>"
            ],
            "text/plain": [
              "     keywors query         date_time\n",
              "8    삼성전자 채용  삼성전자  2023-08-24 08:53\n",
              "9  삼성전자 고객센터  삼성전자  2023-08-24 08:53"
            ]
          },
          "execution_count": 22,
          "metadata": {},
          "output_type": "execute_result"
        }
      ],
      "source": [
        "df[\"date_time\"] = now\n",
        "df.tail(2)"
      ]
    },
    {
      "cell_type": "code",
      "execution_count": null,
      "id": "b85cbe52",
      "metadata": {
        "id": "b85cbe52"
      },
      "outputs": [],
      "source": [
        "# query를 입력하면 데이터 프레임을 출력하는 함수\n",
        "def naver_relate_keyword(query):\n",
        "\n",
        "    url = f\"https://search.naver.com/search.naver?query={query}\"\n",
        "    response = requests.get(url)\n",
        "    dom = BeautifulSoup(response.text, \"html.parser\")\n",
        "    elements = dom.select(\".lst_related_srch > .item\")\n",
        "    keywords = [element.text.strip() for element in elements]\n",
        "\n",
        "    df = pd.DataFrame({\"keywors\": keywords})\n",
        "    df[\"query\"] = query\n",
        "\n",
        "    now = datetime.now()\n",
        "    now = now.strftime(\"%Y-%m-%d %H:%M\")\n",
        "    df[\"date_time\"] = now\n",
        "\n",
        "    return df"
      ]
    },
    {
      "cell_type": "code",
      "execution_count": null,
      "id": "96482ee1",
      "metadata": {
        "id": "96482ee1",
        "outputId": "50dbcbb1-14f2-4132-89f1-78a7306a9e91"
      },
      "outputs": [
        {
          "data": {
            "text/html": [
              "<div>\n",
              "<style scoped>\n",
              "    .dataframe tbody tr th:only-of-type {\n",
              "        vertical-align: middle;\n",
              "    }\n",
              "\n",
              "    .dataframe tbody tr th {\n",
              "        vertical-align: top;\n",
              "    }\n",
              "\n",
              "    .dataframe thead th {\n",
              "        text-align: right;\n",
              "    }\n",
              "</style>\n",
              "<table border=\"1\" class=\"dataframe\">\n",
              "  <thead>\n",
              "    <tr style=\"text-align: right;\">\n",
              "      <th></th>\n",
              "      <th>keywors</th>\n",
              "      <th>query</th>\n",
              "      <th>date_time</th>\n",
              "    </tr>\n",
              "  </thead>\n",
              "  <tbody>\n",
              "    <tr>\n",
              "      <th>8</th>\n",
              "      <td>삼성전자 채용</td>\n",
              "      <td>삼성전자</td>\n",
              "      <td>2023-08-24 08:53</td>\n",
              "    </tr>\n",
              "    <tr>\n",
              "      <th>9</th>\n",
              "      <td>삼성전자 고객센터</td>\n",
              "      <td>삼성전자</td>\n",
              "      <td>2023-08-24 08:53</td>\n",
              "    </tr>\n",
              "  </tbody>\n",
              "</table>\n",
              "</div>"
            ],
            "text/plain": [
              "     keywors query         date_time\n",
              "8    삼성전자 채용  삼성전자  2023-08-24 08:53\n",
              "9  삼성전자 고객센터  삼성전자  2023-08-24 08:53"
            ]
          },
          "execution_count": 24,
          "metadata": {},
          "output_type": "execute_result"
        }
      ],
      "source": [
        "query = \"삼성전자\"\n",
        "df = naver_relate_keyword(query)\n",
        "df.tail(2)"
      ]
    },
    {
      "cell_type": "code",
      "execution_count": null,
      "id": "2a61f390",
      "metadata": {
        "id": "2a61f390",
        "outputId": "96068c87-d7cf-42dd-883b-aacf3f95ae43"
      },
      "outputs": [
        {
          "name": "stdout",
          "output_type": "stream",
          "text": [
            "삼성전자 LG전자 "
          ]
        },
        {
          "data": {
            "text/html": [
              "<div>\n",
              "<style scoped>\n",
              "    .dataframe tbody tr th:only-of-type {\n",
              "        vertical-align: middle;\n",
              "    }\n",
              "\n",
              "    .dataframe tbody tr th {\n",
              "        vertical-align: top;\n",
              "    }\n",
              "\n",
              "    .dataframe thead th {\n",
              "        text-align: right;\n",
              "    }\n",
              "</style>\n",
              "<table border=\"1\" class=\"dataframe\">\n",
              "  <thead>\n",
              "    <tr style=\"text-align: right;\">\n",
              "      <th></th>\n",
              "      <th>keywors</th>\n",
              "      <th>query</th>\n",
              "      <th>date_time</th>\n",
              "    </tr>\n",
              "  </thead>\n",
              "  <tbody>\n",
              "    <tr>\n",
              "      <th>0</th>\n",
              "      <td>삼성전자주가</td>\n",
              "      <td>삼성전자</td>\n",
              "      <td>2023-08-24 08:53</td>\n",
              "    </tr>\n",
              "    <tr>\n",
              "      <th>1</th>\n",
              "      <td>삼성전자 배당금</td>\n",
              "      <td>삼성전자</td>\n",
              "      <td>2023-08-24 08:53</td>\n",
              "    </tr>\n",
              "    <tr>\n",
              "      <th>2</th>\n",
              "      <td>삼성전자서비스</td>\n",
              "      <td>삼성전자</td>\n",
              "      <td>2023-08-24 08:53</td>\n",
              "    </tr>\n",
              "    <tr>\n",
              "      <th>3</th>\n",
              "      <td>삼성전자주식</td>\n",
              "      <td>삼성전자</td>\n",
              "      <td>2023-08-24 08:53</td>\n",
              "    </tr>\n",
              "    <tr>\n",
              "      <th>4</th>\n",
              "      <td>오늘 삼성전자 주가</td>\n",
              "      <td>삼성전자</td>\n",
              "      <td>2023-08-24 08:53</td>\n",
              "    </tr>\n",
              "    <tr>\n",
              "      <th>5</th>\n",
              "      <td>삼성전자 배당금 지급일</td>\n",
              "      <td>삼성전자</td>\n",
              "      <td>2023-08-24 08:53</td>\n",
              "    </tr>\n",
              "    <tr>\n",
              "      <th>6</th>\n",
              "      <td>삼성전자몰</td>\n",
              "      <td>삼성전자</td>\n",
              "      <td>2023-08-24 08:53</td>\n",
              "    </tr>\n",
              "    <tr>\n",
              "      <th>7</th>\n",
              "      <td>삼성 전자레인지</td>\n",
              "      <td>삼성전자</td>\n",
              "      <td>2023-08-24 08:53</td>\n",
              "    </tr>\n",
              "    <tr>\n",
              "      <th>8</th>\n",
              "      <td>삼성전자 채용</td>\n",
              "      <td>삼성전자</td>\n",
              "      <td>2023-08-24 08:53</td>\n",
              "    </tr>\n",
              "    <tr>\n",
              "      <th>9</th>\n",
              "      <td>삼성전자 고객센터</td>\n",
              "      <td>삼성전자</td>\n",
              "      <td>2023-08-24 08:53</td>\n",
              "    </tr>\n",
              "    <tr>\n",
              "      <th>10</th>\n",
              "      <td>lg전자 주가</td>\n",
              "      <td>LG전자</td>\n",
              "      <td>2023-08-24 08:53</td>\n",
              "    </tr>\n",
              "    <tr>\n",
              "      <th>11</th>\n",
              "      <td>lg전자 서비스센터 전화번호</td>\n",
              "      <td>LG전자</td>\n",
              "      <td>2023-08-24 08:53</td>\n",
              "    </tr>\n",
              "    <tr>\n",
              "      <th>12</th>\n",
              "      <td>lg전자 베스트샵</td>\n",
              "      <td>LG전자</td>\n",
              "      <td>2023-08-24 08:53</td>\n",
              "    </tr>\n",
              "    <tr>\n",
              "      <th>13</th>\n",
              "      <td>lg전자 고객센터</td>\n",
              "      <td>LG전자</td>\n",
              "      <td>2023-08-24 08:53</td>\n",
              "    </tr>\n",
              "    <tr>\n",
              "      <th>14</th>\n",
              "      <td>lg 전자레인지</td>\n",
              "      <td>LG전자</td>\n",
              "      <td>2023-08-24 08:53</td>\n",
              "    </tr>\n",
              "    <tr>\n",
              "      <th>15</th>\n",
              "      <td>lg전자 에어컨 서비스센터</td>\n",
              "      <td>LG전자</td>\n",
              "      <td>2023-08-24 08:53</td>\n",
              "    </tr>\n",
              "    <tr>\n",
              "      <th>16</th>\n",
              "      <td>lg전자 as</td>\n",
              "      <td>LG전자</td>\n",
              "      <td>2023-08-24 08:53</td>\n",
              "    </tr>\n",
              "    <tr>\n",
              "      <th>17</th>\n",
              "      <td>lg전자 에어컨</td>\n",
              "      <td>LG전자</td>\n",
              "      <td>2023-08-24 08:53</td>\n",
              "    </tr>\n",
              "    <tr>\n",
              "      <th>18</th>\n",
              "      <td>lg전자 서비스센터 예약</td>\n",
              "      <td>LG전자</td>\n",
              "      <td>2023-08-24 08:53</td>\n",
              "    </tr>\n",
              "    <tr>\n",
              "      <th>19</th>\n",
              "      <td>lg전자렌지</td>\n",
              "      <td>LG전자</td>\n",
              "      <td>2023-08-24 08:53</td>\n",
              "    </tr>\n",
              "  </tbody>\n",
              "</table>\n",
              "</div>"
            ],
            "text/plain": [
              "            keywors query         date_time\n",
              "0            삼성전자주가  삼성전자  2023-08-24 08:53\n",
              "1          삼성전자 배당금  삼성전자  2023-08-24 08:53\n",
              "2           삼성전자서비스  삼성전자  2023-08-24 08:53\n",
              "3            삼성전자주식  삼성전자  2023-08-24 08:53\n",
              "4        오늘 삼성전자 주가  삼성전자  2023-08-24 08:53\n",
              "5      삼성전자 배당금 지급일  삼성전자  2023-08-24 08:53\n",
              "6             삼성전자몰  삼성전자  2023-08-24 08:53\n",
              "7          삼성 전자레인지  삼성전자  2023-08-24 08:53\n",
              "8           삼성전자 채용  삼성전자  2023-08-24 08:53\n",
              "9         삼성전자 고객센터  삼성전자  2023-08-24 08:53\n",
              "10          lg전자 주가  LG전자  2023-08-24 08:53\n",
              "11  lg전자 서비스센터 전화번호  LG전자  2023-08-24 08:53\n",
              "12        lg전자 베스트샵  LG전자  2023-08-24 08:53\n",
              "13        lg전자 고객센터  LG전자  2023-08-24 08:53\n",
              "14         lg 전자레인지  LG전자  2023-08-24 08:53\n",
              "15   lg전자 에어컨 서비스센터  LG전자  2023-08-24 08:53\n",
              "16          lg전자 as  LG전자  2023-08-24 08:53\n",
              "17         lg전자 에어컨  LG전자  2023-08-24 08:53\n",
              "18    lg전자 서비스센터 예약  LG전자  2023-08-24 08:53\n",
              "19           lg전자렌지  LG전자  2023-08-24 08:53"
            ]
          },
          "execution_count": 25,
          "metadata": {},
          "output_type": "execute_result"
        }
      ],
      "source": [
        "dfs = []\n",
        "queries = [\"삼성전자\", \"LG전자\"]\n",
        "\n",
        "for query in queries:\n",
        "    print(query, end=\" \")\n",
        "    df = naver_relate_keyword(query)\n",
        "    dfs.append(df)\n",
        "\n",
        "result = pd.concat(dfs, ignore_index=True)\n",
        "result"
      ]
    }
  ],
  "metadata": {
    "kernelspec": {
      "display_name": "Python 3 (ipykernel)",
      "language": "python",
      "name": "python3"
    },
    "language_info": {
      "codemirror_mode": {
        "name": "ipython",
        "version": 3
      },
      "file_extension": ".py",
      "mimetype": "text/x-python",
      "name": "python",
      "nbconvert_exporter": "python",
      "pygments_lexer": "ipython3",
      "version": "3.11.3"
    },
    "toc": {
      "base_numbering": 1,
      "nav_menu": {},
      "number_sections": false,
      "sideBar": true,
      "skip_h1_title": false,
      "title_cell": "Table of Contents",
      "title_sidebar": "Contents",
      "toc_cell": false,
      "toc_position": {},
      "toc_section_display": true,
      "toc_window_display": false
    },
    "colab": {
      "provenance": []
    }
  },
  "nbformat": 4,
  "nbformat_minor": 5
}
